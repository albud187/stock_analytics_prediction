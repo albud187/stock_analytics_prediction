{
 "cells": [
  {
   "cell_type": "code",
   "execution_count": 2,
   "metadata": {},
   "outputs": [],
   "source": [
    "import datetime as dt\n",
    "from datetime import date\n",
    "import matplotlib.pyplot as plt\n",
    "from matplotlib import style\n",
    "import pandas as pd\n",
    "import pandas_datareader.data as web\n",
    "import numpy as np\n",
    "import time\n",
    "from sklearn.preprocessing import MinMaxScaler\n",
    "\n",
    "from tensorflow.keras import Sequential\n",
    "from tensorflow.keras.layers import Dense, LSTM, Dropout"
   ]
  },
  {
   "cell_type": "code",
   "execution_count": 170,
   "metadata": {},
   "outputs": [],
   "source": [
    "df = pd.read_csv('QQQ_norm_2005-01-03 to 2020-06-18.csv')\n",
    "df = df[27:]"
   ]
  },
  {
   "cell_type": "code",
   "execution_count": 180,
   "metadata": {},
   "outputs": [
    {
     "data": {
      "text/plain": [
       "3865"
      ]
     },
     "execution_count": 180,
     "metadata": {},
     "output_type": "execute_result"
    }
   ],
   "source": [
    "len(df)"
   ]
  },
  {
   "cell_type": "code",
   "execution_count": 169,
   "metadata": {},
   "outputs": [],
   "source": [
    "df = pd.read_csv('QQQ_2005-02-08_to_2020-05-29.csv')\n",
    "\n",
    "def format_data(df,start, end):\n",
    "    training_data = df[start:end].drop('Date', axis = 1)\n",
    "    return(training_data)\n",
    "        \n",
    "\n",
    "def create_xy(training_data, samples, forecast):\n",
    "    x = []\n",
    "    y = []\n",
    "    L = len(training_data)\n",
    "    samples = 100\n",
    "    forecast = 20\n",
    "\n",
    "    for i in range(samples, L - forecast):\n",
    "        x.append(np.array(training_data[i-samples:i]))\n",
    "        y.append(np.array(training_data[i+1:i+1+forecast]['pct chage price']))\n",
    "    x = np.array(x)\n",
    "    y = np.array(y)\n",
    "    \n",
    "    return([x,y])\n",
    "#training_data is from QQQ.train"
   ]
  },
  {
   "cell_type": "code",
   "execution_count": 255,
   "metadata": {},
   "outputs": [],
   "source": [
    "x_train = create_xy(training_data,100, 20)[0]\n",
    "y_train = create_xy(training_data, 100, 20)[1]"
   ]
  },
  {
   "cell_type": "code",
   "execution_count": 260,
   "metadata": {},
   "outputs": [
    {
     "data": {
      "text/plain": [
       "(2880, 20)"
      ]
     },
     "execution_count": 260,
     "metadata": {},
     "output_type": "execute_result"
    }
   ],
   "source": [
    "y_train.shape"
   ]
  },
  {
   "cell_type": "code",
   "execution_count": 76,
   "metadata": {},
   "outputs": [],
   "source": [
    "from tensorflow.keras import Sequential\n",
    "from tensorflow.keras.layers import Dense, LSTM, Dropout"
   ]
  },
  {
   "cell_type": "code",
   "execution_count": 261,
   "metadata": {},
   "outputs": [
    {
     "name": "stdout",
     "output_type": "stream",
     "text": [
      "Train on 2880 samples\n",
      "Epoch 1/10\n",
      "2880/2880 [==============================] - 55s 19ms/sample - loss: 1.7497e-04\n",
      "Epoch 2/10\n",
      "2880/2880 [==============================] - 24s 8ms/sample - loss: 1.7430e-04\n",
      "Epoch 3/10\n",
      "2880/2880 [==============================] - 23s 8ms/sample - loss: 1.7412e-04\n",
      "Epoch 4/10\n",
      "2880/2880 [==============================] - 23s 8ms/sample - loss: 1.7424e-04\n",
      "Epoch 5/10\n",
      "2880/2880 [==============================] - 23s 8ms/sample - loss: 1.7433e-04\n",
      "Epoch 6/10\n",
      "2880/2880 [==============================] - 24s 8ms/sample - loss: 1.7439e-04\n",
      "Epoch 7/10\n",
      "2880/2880 [==============================] - 23s 8ms/sample - loss: 1.7409e-04\n",
      "Epoch 8/10\n",
      "2880/2880 [==============================] - 24s 8ms/sample - loss: 1.7437e-04\n",
      "Epoch 9/10\n",
      "2880/2880 [==============================] - 23s 8ms/sample - loss: 1.7414e-04\n",
      "Epoch 10/10\n",
      "2880/2880 [==============================] - 23s 8ms/sample - loss: 1.7414e-04\n"
     ]
    },
    {
     "data": {
      "text/plain": [
       "<tensorflow.python.keras.callbacks.History at 0x1f9ce107780>"
      ]
     },
     "execution_count": 261,
     "metadata": {},
     "output_type": "execute_result"
    }
   ],
   "source": [
    "hyparam ={'loss':'mean_squared_error',\n",
    "         'opt':'Adam',\n",
    "         'epochs': 10,\n",
    "         'batch_size':32}\n",
    "\n",
    "regressor = Sequential()\n",
    "\n",
    "regressor.add(LSTM(units = 50, activation = 'relu', return_sequences = True, input_shape = (x_train.shape[1], x_train.shape[2])))\n",
    "regressor.add(Dropout(0.2))\n",
    "\n",
    "regressor.add(LSTM(units = 60, activation = 'relu', return_sequences = True))\n",
    "regressor.add(Dropout(0.2))\n",
    "\n",
    "regressor.add(LSTM(units = 80, activation = 'relu', return_sequences = True))\n",
    "regressor.add(Dropout(0.2))\n",
    "\n",
    "regressor.add(LSTM(units = 120, activation = 'relu'))\n",
    "regressor.add(Dropout(0.2))\n",
    "\n",
    "regressor.add(Dense(units=y_train.shape[1]))\n",
    "\n",
    "regressor.compile(optimizer = 'adam', loss = 'mean_squared_error')\n",
    "\n",
    "regressor.fit(x_train, y_train, epochs = 10, batch_size = 32)"
   ]
  },
  {
   "cell_type": "code",
   "execution_count": null,
   "metadata": {},
   "outputs": [],
   "source": [
    "regressor.save('2020-06-21-2100_LSTM-100_to_20_prenorm.model')"
   ]
  },
  {
   "cell_type": "code",
   "execution_count": 309,
   "metadata": {},
   "outputs": [],
   "source": [
    "test_df = pd.read_csv('QQQ_norm_2005-01-03 to 2020-06-18.csv',index_col = 0)"
   ]
  },
  {
   "cell_type": "code",
   "execution_count": 314,
   "metadata": {},
   "outputs": [
    {
     "data": {
      "text/html": [
       "<div>\n",
       "<style scoped>\n",
       "    .dataframe tbody tr th:only-of-type {\n",
       "        vertical-align: middle;\n",
       "    }\n",
       "\n",
       "    .dataframe tbody tr th {\n",
       "        vertical-align: top;\n",
       "    }\n",
       "\n",
       "    .dataframe thead th {\n",
       "        text-align: right;\n",
       "    }\n",
       "</style>\n",
       "<table border=\"1\" class=\"dataframe\">\n",
       "  <thead>\n",
       "    <tr style=\"text-align: right;\">\n",
       "      <th></th>\n",
       "      <th>pct chage price</th>\n",
       "      <th>vol change pct</th>\n",
       "      <th>12 EMA diff</th>\n",
       "      <th>26 EMA diff</th>\n",
       "      <th>norm RSI 9</th>\n",
       "    </tr>\n",
       "    <tr>\n",
       "      <th>Date</th>\n",
       "      <th></th>\n",
       "      <th></th>\n",
       "      <th></th>\n",
       "      <th></th>\n",
       "      <th></th>\n",
       "    </tr>\n",
       "  </thead>\n",
       "  <tbody>\n",
       "    <tr>\n",
       "      <td>2005-01-03</td>\n",
       "      <td>0.000000</td>\n",
       "      <td>0.000000</td>\n",
       "      <td>0.000000</td>\n",
       "      <td>0.000000</td>\n",
       "      <td>0.000000</td>\n",
       "    </tr>\n",
       "    <tr>\n",
       "      <td>2005-01-04</td>\n",
       "      <td>-0.018228</td>\n",
       "      <td>0.353095</td>\n",
       "      <td>0.000000</td>\n",
       "      <td>0.000000</td>\n",
       "      <td>0.000000</td>\n",
       "    </tr>\n",
       "    <tr>\n",
       "      <td>2005-01-05</td>\n",
       "      <td>-0.006189</td>\n",
       "      <td>-0.063662</td>\n",
       "      <td>0.000000</td>\n",
       "      <td>0.000000</td>\n",
       "      <td>0.000000</td>\n",
       "    </tr>\n",
       "    <tr>\n",
       "      <td>2005-01-06</td>\n",
       "      <td>-0.004930</td>\n",
       "      <td>-0.195355</td>\n",
       "      <td>0.000000</td>\n",
       "      <td>0.000000</td>\n",
       "      <td>0.000000</td>\n",
       "    </tr>\n",
       "    <tr>\n",
       "      <td>2005-01-07</td>\n",
       "      <td>0.005215</td>\n",
       "      <td>0.195944</td>\n",
       "      <td>0.000000</td>\n",
       "      <td>0.000000</td>\n",
       "      <td>0.000000</td>\n",
       "    </tr>\n",
       "    <tr>\n",
       "      <td>...</td>\n",
       "      <td>...</td>\n",
       "      <td>...</td>\n",
       "      <td>...</td>\n",
       "      <td>...</td>\n",
       "      <td>...</td>\n",
       "    </tr>\n",
       "    <tr>\n",
       "      <td>2020-06-12</td>\n",
       "      <td>0.007948</td>\n",
       "      <td>-0.013930</td>\n",
       "      <td>-0.001798</td>\n",
       "      <td>0.011310</td>\n",
       "      <td>0.530806</td>\n",
       "    </tr>\n",
       "    <tr>\n",
       "      <td>2020-06-15</td>\n",
       "      <td>0.012167</td>\n",
       "      <td>-0.369887</td>\n",
       "      <td>0.004525</td>\n",
       "      <td>0.016509</td>\n",
       "      <td>0.550584</td>\n",
       "    </tr>\n",
       "    <tr>\n",
       "      <td>2020-06-16</td>\n",
       "      <td>0.017173</td>\n",
       "      <td>0.079075</td>\n",
       "      <td>0.012339</td>\n",
       "      <td>0.023777</td>\n",
       "      <td>0.590909</td>\n",
       "    </tr>\n",
       "    <tr>\n",
       "      <td>2020-06-17</td>\n",
       "      <td>0.003171</td>\n",
       "      <td>-0.293106</td>\n",
       "      <td>0.012004</td>\n",
       "      <td>0.023559</td>\n",
       "      <td>0.630191</td>\n",
       "    </tr>\n",
       "    <tr>\n",
       "      <td>2020-06-18</td>\n",
       "      <td>0.002709</td>\n",
       "      <td>-0.115205</td>\n",
       "      <td>0.011491</td>\n",
       "      <td>0.023128</td>\n",
       "      <td>0.579165</td>\n",
       "    </tr>\n",
       "  </tbody>\n",
       "</table>\n",
       "<p>3892 rows × 5 columns</p>\n",
       "</div>"
      ],
      "text/plain": [
       "            pct chage price  vol change pct  12 EMA diff  26 EMA diff  \\\n",
       "Date                                                                    \n",
       "2005-01-03         0.000000        0.000000     0.000000     0.000000   \n",
       "2005-01-04        -0.018228        0.353095     0.000000     0.000000   \n",
       "2005-01-05        -0.006189       -0.063662     0.000000     0.000000   \n",
       "2005-01-06        -0.004930       -0.195355     0.000000     0.000000   \n",
       "2005-01-07         0.005215        0.195944     0.000000     0.000000   \n",
       "...                     ...             ...          ...          ...   \n",
       "2020-06-12         0.007948       -0.013930    -0.001798     0.011310   \n",
       "2020-06-15         0.012167       -0.369887     0.004525     0.016509   \n",
       "2020-06-16         0.017173        0.079075     0.012339     0.023777   \n",
       "2020-06-17         0.003171       -0.293106     0.012004     0.023559   \n",
       "2020-06-18         0.002709       -0.115205     0.011491     0.023128   \n",
       "\n",
       "            norm RSI 9  \n",
       "Date                    \n",
       "2005-01-03    0.000000  \n",
       "2005-01-04    0.000000  \n",
       "2005-01-05    0.000000  \n",
       "2005-01-06    0.000000  \n",
       "2005-01-07    0.000000  \n",
       "...                ...  \n",
       "2020-06-12    0.530806  \n",
       "2020-06-15    0.550584  \n",
       "2020-06-16    0.590909  \n",
       "2020-06-17    0.630191  \n",
       "2020-06-18    0.579165  \n",
       "\n",
       "[3892 rows x 5 columns]"
      ]
     },
     "execution_count": 314,
     "metadata": {},
     "output_type": "execute_result"
    }
   ],
   "source": [
    "test_df"
   ]
  },
  {
   "cell_type": "code",
   "execution_count": 313,
   "metadata": {},
   "outputs": [
    {
     "data": {
      "text/html": [
       "<div>\n",
       "<style scoped>\n",
       "    .dataframe tbody tr th:only-of-type {\n",
       "        vertical-align: middle;\n",
       "    }\n",
       "\n",
       "    .dataframe tbody tr th {\n",
       "        vertical-align: top;\n",
       "    }\n",
       "\n",
       "    .dataframe thead th {\n",
       "        text-align: right;\n",
       "    }\n",
       "</style>\n",
       "<table border=\"1\" class=\"dataframe\">\n",
       "  <thead>\n",
       "    <tr style=\"text-align: right;\">\n",
       "      <th></th>\n",
       "      <th>pct chage price</th>\n",
       "      <th>vol change pct</th>\n",
       "      <th>12 EMA diff</th>\n",
       "      <th>26 EMA diff</th>\n",
       "      <th>norm RSI 9</th>\n",
       "    </tr>\n",
       "  </thead>\n",
       "  <tbody>\n",
       "    <tr>\n",
       "      <td>27</td>\n",
       "      <td>0.001078</td>\n",
       "      <td>0.183287</td>\n",
       "      <td>-0.004276</td>\n",
       "      <td>-0.008470</td>\n",
       "      <td>0.545817</td>\n",
       "    </tr>\n",
       "    <tr>\n",
       "      <td>28</td>\n",
       "      <td>0.014805</td>\n",
       "      <td>-0.015302</td>\n",
       "      <td>0.003727</td>\n",
       "      <td>-0.000499</td>\n",
       "      <td>0.558139</td>\n",
       "    </tr>\n",
       "    <tr>\n",
       "      <td>29</td>\n",
       "      <td>0.004509</td>\n",
       "      <td>-0.494784</td>\n",
       "      <td>0.005401</td>\n",
       "      <td>0.001787</td>\n",
       "      <td>0.566540</td>\n",
       "    </tr>\n",
       "    <tr>\n",
       "      <td>30</td>\n",
       "      <td>0.006602</td>\n",
       "      <td>1.393173</td>\n",
       "      <td>0.007856</td>\n",
       "      <td>0.004945</td>\n",
       "      <td>0.595744</td>\n",
       "    </tr>\n",
       "    <tr>\n",
       "      <td>31</td>\n",
       "      <td>-0.003673</td>\n",
       "      <td>-0.389118</td>\n",
       "      <td>0.004800</td>\n",
       "      <td>0.002737</td>\n",
       "      <td>0.664031</td>\n",
       "    </tr>\n",
       "    <tr>\n",
       "      <td>...</td>\n",
       "      <td>...</td>\n",
       "      <td>...</td>\n",
       "      <td>...</td>\n",
       "      <td>...</td>\n",
       "      <td>...</td>\n",
       "    </tr>\n",
       "    <tr>\n",
       "      <td>3022</td>\n",
       "      <td>0.005438</td>\n",
       "      <td>-0.114692</td>\n",
       "      <td>0.002313</td>\n",
       "      <td>0.004368</td>\n",
       "      <td>0.465251</td>\n",
       "    </tr>\n",
       "    <tr>\n",
       "      <td>3023</td>\n",
       "      <td>0.005658</td>\n",
       "      <td>0.045329</td>\n",
       "      <td>0.004777</td>\n",
       "      <td>0.006864</td>\n",
       "      <td>0.535529</td>\n",
       "    </tr>\n",
       "    <tr>\n",
       "      <td>3024</td>\n",
       "      <td>0.008770</td>\n",
       "      <td>0.166148</td>\n",
       "      <td>0.008405</td>\n",
       "      <td>0.010717</td>\n",
       "      <td>0.639445</td>\n",
       "    </tr>\n",
       "    <tr>\n",
       "      <td>3025</td>\n",
       "      <td>0.003281</td>\n",
       "      <td>-0.214548</td>\n",
       "      <td>0.008740</td>\n",
       "      <td>0.011553</td>\n",
       "      <td>0.656388</td>\n",
       "    </tr>\n",
       "    <tr>\n",
       "      <td>3026</td>\n",
       "      <td>0.002207</td>\n",
       "      <td>-0.144512</td>\n",
       "      <td>0.008488</td>\n",
       "      <td>0.011790</td>\n",
       "      <td>0.637771</td>\n",
       "    </tr>\n",
       "  </tbody>\n",
       "</table>\n",
       "<p>3000 rows × 5 columns</p>\n",
       "</div>"
      ],
      "text/plain": [
       "      pct chage price  vol change pct  12 EMA diff  26 EMA diff  norm RSI 9\n",
       "27           0.001078        0.183287    -0.004276    -0.008470    0.545817\n",
       "28           0.014805       -0.015302     0.003727    -0.000499    0.558139\n",
       "29           0.004509       -0.494784     0.005401     0.001787    0.566540\n",
       "30           0.006602        1.393173     0.007856     0.004945    0.595744\n",
       "31          -0.003673       -0.389118     0.004800     0.002737    0.664031\n",
       "...               ...             ...          ...          ...         ...\n",
       "3022         0.005438       -0.114692     0.002313     0.004368    0.465251\n",
       "3023         0.005658        0.045329     0.004777     0.006864    0.535529\n",
       "3024         0.008770        0.166148     0.008405     0.010717    0.639445\n",
       "3025         0.003281       -0.214548     0.008740     0.011553    0.656388\n",
       "3026         0.002207       -0.144512     0.008488     0.011790    0.637771\n",
       "\n",
       "[3000 rows x 5 columns]"
      ]
     },
     "execution_count": 313,
     "metadata": {},
     "output_type": "execute_result"
    }
   ],
   "source": [
    "training_data"
   ]
  },
  {
   "cell_type": "code",
   "execution_count": 315,
   "metadata": {},
   "outputs": [],
   "source": [
    "x_test = pd.read_csv('QQQ_train.csv', index_col = 0)"
   ]
  },
  {
   "cell_type": "code",
   "execution_count": 324,
   "metadata": {},
   "outputs": [],
   "source": [
    "x_test = x_test[-100:]"
   ]
  },
  {
   "cell_type": "code",
   "execution_count": 325,
   "metadata": {},
   "outputs": [],
   "source": [
    "x_test = np.array(x_test)"
   ]
  },
  {
   "cell_type": "code",
   "execution_count": 328,
   "metadata": {},
   "outputs": [],
   "source": [
    "x_test = x_test.reshape(1, x_test.shape[0], x_test.shape[1])"
   ]
  },
  {
   "cell_type": "code",
   "execution_count": 329,
   "metadata": {},
   "outputs": [],
   "source": [
    "y_pred = regressor.predict(x_test)"
   ]
  },
  {
   "cell_type": "code",
   "execution_count": 331,
   "metadata": {},
   "outputs": [
    {
     "data": {
      "text/plain": [
       "(1, 20)"
      ]
     },
     "execution_count": 331,
     "metadata": {},
     "output_type": "execute_result"
    }
   ],
   "source": [
    "y_pred.shape"
   ]
  },
  {
   "cell_type": "code",
   "execution_count": 332,
   "metadata": {},
   "outputs": [],
   "source": [
    "preds = list(y_pred[0])"
   ]
  },
  {
   "cell_type": "code",
   "execution_count": 333,
   "metadata": {},
   "outputs": [
    {
     "data": {
      "text/plain": [
       "[-0.0010228489,\n",
       " -0.002060439,\n",
       " 0.00060101255,\n",
       " 0.0011777305,\n",
       " -0.00056102744,\n",
       " -0.00040712566,\n",
       " -0.0004621009,\n",
       " 0.00022253365,\n",
       " 0.00057223975,\n",
       " 0.0008967547,\n",
       " 0.00053915416,\n",
       " 0.0012162081,\n",
       " -5.0692717e-05,\n",
       " 0.0005116693,\n",
       " 0.0008288241,\n",
       " 8.6017695e-05,\n",
       " 0.00083469803,\n",
       " 0.00011076078,\n",
       " -0.00080830295,\n",
       " 0.000530856]"
      ]
     },
     "execution_count": 333,
     "metadata": {},
     "output_type": "execute_result"
    }
   ],
   "source": [
    "preds"
   ]
  },
  {
   "cell_type": "code",
   "execution_count": null,
   "metadata": {},
   "outputs": [],
   "source": []
  }
 ],
 "metadata": {
  "kernelspec": {
   "display_name": "Python 3",
   "language": "python",
   "name": "python3"
  },
  "language_info": {
   "codemirror_mode": {
    "name": "ipython",
    "version": 3
   },
   "file_extension": ".py",
   "mimetype": "text/x-python",
   "name": "python",
   "nbconvert_exporter": "python",
   "pygments_lexer": "ipython3",
   "version": "3.6.8"
  }
 },
 "nbformat": 4,
 "nbformat_minor": 4
}
