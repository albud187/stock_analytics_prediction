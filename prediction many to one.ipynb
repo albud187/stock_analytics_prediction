{
 "cells": [
  {
   "cell_type": "code",
   "execution_count": 423,
   "metadata": {},
   "outputs": [],
   "source": [
    "import datetime as dt\n",
    "from datetime import date\n",
    "import matplotlib.pyplot as plt\n",
    "from matplotlib import style\n",
    "import pandas as pd\n",
    "import pandas_datareader.data as web\n",
    "import numpy as np\n",
    "import time\n",
    "from sklearn.preprocessing import MinMaxScaler\n",
    "import tensorflow as tf\n",
    "from tensorflow.keras import Sequential\n",
    "from tensorflow.keras.layers import Dense, LSTM, Dropout\n",
    "\n",
    "# https://www.youtube.com/watch?v=QIUxPv5PJOY"
   ]
  },
  {
   "cell_type": "code",
   "execution_count": 109,
   "metadata": {},
   "outputs": [],
   "source": [
    "def format_data(df,start, end):\n",
    "    training_data = df[start:end].drop('Date', axis = 1)\n",
    "    return(training_data)\n",
    "        \n",
    "def create_xy_scaled(df, samples):\n",
    "    \n",
    "    dataset = df.values\n",
    "    scaler = MinMaxScaler(feature_range = (0,1))\n",
    "    scaled_data = scaler.fit_transform(dataset)\n",
    "    data = scaled_data\n",
    "    x = []\n",
    "    y = []\n",
    "\n",
    "    for i in range(samples, len(train_data)):\n",
    "        x.append(data[i-samples:i])\n",
    "        y.append(data[i])\n",
    "        \n",
    "    return(np.array(x), np.array(y), scaler)\n",
    "\n",
    "#returns list of RSI values over n periods\n",
    "def RSI(df, n):\n",
    "    L = len(df)\n",
    "    up = [0]*L\n",
    "    down = [0]*L\n",
    "    \n",
    "    for i in range(1,L):\n",
    "        if df['Close'][i-1] <= df['Close'][i]:\n",
    "            up[i] = df['Close'][i] - df['Close'][i-1]\n",
    "        if df['Close'][i-1] > df['Close'][i]:\n",
    "            down[i] = abs(df['Close'][i] - df['Close'][i-1])\n",
    "\n",
    "    avg_up= [0]*L\n",
    "    avg_down = [0]*L\n",
    "    \n",
    "    avg_up[n] = np.mean(up[1:n+1])\n",
    "    avg_down[n] = np.mean(down[1:n+1])\n",
    "    \n",
    "    for i in range(n+1,L):\n",
    "        avg_up[i] = (avg_up[i-1]*(n-1)+up[i])/n\n",
    "        avg_down[i] = (avg_down[i-1]*(n-1)+down[i])/n\n",
    "    \n",
    "    #return(avg_up,avg_down)\n",
    "    RSI = [0]*L\n",
    "    for i in range(n,L):\n",
    "        RSI[i]= 100 - 100/(1+ (avg_up[i-1]/avg_down[i]))\n",
    "    \n",
    "    return(RSI)\n",
    "\n",
    "\n",
    "##SMA, returns list of simple moving average over n periods\n",
    "def SMA(stock_df,n):\n",
    "    A = [0]*len(stock_df)\n",
    "    for i in range(len(stock_df)-n+1):\n",
    "        A[i+n-1] = np.mean(list(stock_df['Close'][i:i+n]))\n",
    "    return(A)\n",
    "\n",
    "#EMA, returns list of exponential moving average over n periods\n",
    "def EMA(stock_df,n):\n",
    "    mult = 2/(n+1)\n",
    "    A = [0]*len(stock_df)\n",
    "    A[n-1] = SMA(stock_df,n)[n-1]\n",
    "    for i in range(n-1,len(stock_df)-1):\n",
    "        A[i+1] = A[i]+(stock_df['Close'][i]-A[i])*mult\n",
    "    return(A)"
   ]
  },
  {
   "cell_type": "code",
   "execution_count": 420,
   "metadata": {},
   "outputs": [],
   "source": [
    "QQQ = pd.read_csv('dataset_QQQ_20140207_to_20181231.csv')\n",
    "QQQ.drop('Date', axis =1, inplace = True)\n",
    "x = create_xy_scaled(QQQ,60)[0]\n",
    "y = create_xy_scaled(QQQ,60)[1]\n",
    "scale = create_xy_scaled(QQQ,60)[2]\n",
    "x_train = x[:1000].copy()\n",
    "y_train = y[:1000].copy()\n",
    "\n",
    "x_test = x[1001:].copy()\n",
    "y_test = y[1001:].copy()"
   ]
  },
  {
   "cell_type": "code",
   "execution_count": 421,
   "metadata": {},
   "outputs": [
    {
     "name": "stdout",
     "output_type": "stream",
     "text": [
      "Train on 1000 samples\n",
      "1000/1000 [==============================] - 40s 40ms/sample - loss: 0.0083\n"
     ]
    },
    {
     "data": {
      "text/plain": [
       "<tensorflow.python.keras.callbacks.History at 0x1a2e9811048>"
      ]
     },
     "execution_count": 421,
     "metadata": {},
     "output_type": "execute_result"
    }
   ],
   "source": [
    "model = Sequential()\n",
    "model.add(LSTM(50, return_sequences = True, input_shape = (x_train.shape[1], x_train.shape[2])))\n",
    "model.add(LSTM(50, return_sequences = False))\n",
    "model.add(Dense(25))\n",
    "model.add(Dense(y_train.shape[1]))\n",
    "\n",
    "model.compile(optimizer = 'adam', loss = 'mean_squared_error')\n",
    "\n",
    "model.fit(x_train, y_train, batch_size = 1, epochs = 1)"
   ]
  },
  {
   "cell_type": "code",
   "execution_count": 425,
   "metadata": {},
   "outputs": [],
   "source": [
    "model.save('savetest.model')"
   ]
  },
  {
   "cell_type": "code",
   "execution_count": null,
   "metadata": {},
   "outputs": [],
   "source": []
  },
  {
   "cell_type": "code",
   "execution_count": 435,
   "metadata": {},
   "outputs": [],
   "source": [
    "def pred(x, model):\n",
    "    x = x.reshape(1, x.shape[0], x.shape[1])\n",
    "    return(model.predict(x))"
   ]
  },
  {
   "cell_type": "code",
   "execution_count": 374,
   "metadata": {},
   "outputs": [],
   "source": [
    "model = tf.keras.models.load_model('savetest.model')\n",
    "\n",
    "def unscale(data, scaler):\n",
    "    return(scaler.inverse_transform(data))\n",
    "\n",
    "def rescale(data, scaler):\n",
    "    return(scaler.transform(data))\n",
    "\n",
    "def pred(x, model):\n",
    "    return(model.predict(x))"
   ]
  },
  {
   "cell_type": "code",
   "execution_count": null,
   "metadata": {},
   "outputs": [],
   "source": [
    "# predict loop test\n",
    "model = tf.keras.models.load_model('2020-06-23-LSTM-60_to_1.model')\n",
    "df = create_xy_scaled(QQQ,50)[0][-50:]\n",
    "scale = create_xy_scaled(QQQ,50)[2]\n",
    "\n",
    "forecast = 1\n",
    "for i in range(forecast):\n",
    "    \n",
    "    y_pred = pred(df, model)\n",
    "    \n",
    "    new_row ={'Close':y_pred}\n",
    "    QQQ_test.drop([' 9 RSI', '12 EMA', '26 EMA'], axis = 1, inplace = True)\n",
    "    QQQ_test = QQQ_test.append(new_row, ignore_index = True,)\n",
    "    QQQ_test[' 9 RSI'] = RSI(QQQ_test, 9)\n",
    "    QQQ_test['12 EMA'] = EMA(QQQ_test, 12)\n",
    "    QQQ_test['26 EMA'] = EMA(QQQ_test, 26)"
   ]
  },
  {
   "cell_type": "code",
   "execution_count": 388,
   "metadata": {},
   "outputs": [],
   "source": [
    "df = QQQ[-50:]"
   ]
  },
  {
   "cell_type": "code",
   "execution_count": null,
   "metadata": {},
   "outputs": [],
   "source": []
  },
  {
   "cell_type": "code",
   "execution_count": null,
   "metadata": {},
   "outputs": [],
   "source": []
  }
 ],
 "metadata": {
  "kernelspec": {
   "display_name": "Python 3",
   "language": "python",
   "name": "python3"
  },
  "language_info": {
   "codemirror_mode": {
    "name": "ipython",
    "version": 3
   },
   "file_extension": ".py",
   "mimetype": "text/x-python",
   "name": "python",
   "nbconvert_exporter": "python",
   "pygments_lexer": "ipython3",
   "version": "3.6.8"
  }
 },
 "nbformat": 4,
 "nbformat_minor": 4
}
