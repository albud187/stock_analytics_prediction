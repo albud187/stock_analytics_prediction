{
 "cells": [
  {
   "cell_type": "code",
   "execution_count": 1,
   "metadata": {},
   "outputs": [],
   "source": [
    "import datetime as dt\n",
    "from datetime import date\n",
    "import matplotlib.pyplot as plt\n",
    "from matplotlib import style\n",
    "import pandas as pd\n",
    "import pandas_datareader.data as web\n",
    "import numpy as np\n",
    "import time\n",
    "from sklearn.preprocessing import MinMaxScaler\n",
    "\n",
    "from tensorflow.keras import Sequential\n",
    "from tensorflow.keras.layers import Dense, LSTM, Dropout"
   ]
  },
  {
   "cell_type": "code",
   "execution_count": 2,
   "metadata": {},
   "outputs": [],
   "source": [
    "df = pd.read_csv('QQQ_2005-02-08_to_2020-05-29.csv')"
   ]
  },
  {
   "cell_type": "code",
   "execution_count": 56,
   "metadata": {},
   "outputs": [],
   "source": [
    "df_train = df[df['Date']< '2017-12-31'].copy()\n",
    "df_test = df[df['Date']>='2017-12-31'].copy()"
   ]
  },
  {
   "cell_type": "code",
   "execution_count": 57,
   "metadata": {},
   "outputs": [],
   "source": [
    "df_train = df[0:3000]\n",
    "df_test = df[3001:]"
   ]
  },
  {
   "cell_type": "code",
   "execution_count": 5,
   "metadata": {},
   "outputs": [
    {
     "data": {
      "text/html": [
       "<div>\n",
       "<style scoped>\n",
       "    .dataframe tbody tr th:only-of-type {\n",
       "        vertical-align: middle;\n",
       "    }\n",
       "\n",
       "    .dataframe tbody tr th {\n",
       "        vertical-align: top;\n",
       "    }\n",
       "\n",
       "    .dataframe thead th {\n",
       "        text-align: right;\n",
       "    }\n",
       "</style>\n",
       "<table border=\"1\" class=\"dataframe\">\n",
       "  <thead>\n",
       "    <tr style=\"text-align: right;\">\n",
       "      <th></th>\n",
       "      <th>Date</th>\n",
       "      <th>Close</th>\n",
       "      <th>Volume</th>\n",
       "      <th>RSI</th>\n",
       "      <th>pct change volume</th>\n",
       "      <th>pct change price</th>\n",
       "      <th>12 EMA</th>\n",
       "      <th>26 EMA</th>\n",
       "    </tr>\n",
       "  </thead>\n",
       "  <tbody>\n",
       "    <tr>\n",
       "      <td>3001</td>\n",
       "      <td>10/01/2017</td>\n",
       "      <td>122.599999</td>\n",
       "      <td>16176600</td>\n",
       "      <td>63.777099</td>\n",
       "      <td>-0.144512</td>\n",
       "      <td>0.002207</td>\n",
       "      <td>120.536328</td>\n",
       "      <td>119.742700</td>\n",
       "    </tr>\n",
       "    <tr>\n",
       "      <td>3002</td>\n",
       "      <td>11/01/2017</td>\n",
       "      <td>122.930000</td>\n",
       "      <td>20686000</td>\n",
       "      <td>76.068443</td>\n",
       "      <td>0.278761</td>\n",
       "      <td>0.002692</td>\n",
       "      <td>120.853815</td>\n",
       "      <td>119.954351</td>\n",
       "    </tr>\n",
       "    <tr>\n",
       "      <td>3003</td>\n",
       "      <td>12/01/2017</td>\n",
       "      <td>122.739998</td>\n",
       "      <td>19622500</td>\n",
       "      <td>75.809210</td>\n",
       "      <td>-0.051412</td>\n",
       "      <td>-0.001546</td>\n",
       "      <td>121.173228</td>\n",
       "      <td>120.174770</td>\n",
       "    </tr>\n",
       "    <tr>\n",
       "      <td>3004</td>\n",
       "      <td>13/01/2017</td>\n",
       "      <td>123.160004</td>\n",
       "      <td>16930800</td>\n",
       "      <td>96.245015</td>\n",
       "      <td>-0.137174</td>\n",
       "      <td>0.003422</td>\n",
       "      <td>121.414270</td>\n",
       "      <td>120.364787</td>\n",
       "    </tr>\n",
       "    <tr>\n",
       "      <td>3005</td>\n",
       "      <td>17/01/2017</td>\n",
       "      <td>122.790001</td>\n",
       "      <td>14538500</td>\n",
       "      <td>87.185266</td>\n",
       "      <td>-0.141299</td>\n",
       "      <td>-0.003004</td>\n",
       "      <td>121.682844</td>\n",
       "      <td>120.571840</td>\n",
       "    </tr>\n",
       "    <tr>\n",
       "      <td>...</td>\n",
       "      <td>...</td>\n",
       "      <td>...</td>\n",
       "      <td>...</td>\n",
       "      <td>...</td>\n",
       "      <td>...</td>\n",
       "      <td>...</td>\n",
       "      <td>...</td>\n",
       "      <td>...</td>\n",
       "    </tr>\n",
       "    <tr>\n",
       "      <td>3847</td>\n",
       "      <td>21/05/2020</td>\n",
       "      <td>228.869995</td>\n",
       "      <td>43642900</td>\n",
       "      <td>57.940588</td>\n",
       "      <td>0.166392</td>\n",
       "      <td>-0.010891</td>\n",
       "      <td>223.485612</td>\n",
       "      <td>217.639792</td>\n",
       "    </tr>\n",
       "    <tr>\n",
       "      <td>3848</td>\n",
       "      <td>22/05/2020</td>\n",
       "      <td>229.660004</td>\n",
       "      <td>28762400</td>\n",
       "      <td>55.805262</td>\n",
       "      <td>-0.340960</td>\n",
       "      <td>0.003452</td>\n",
       "      <td>224.313979</td>\n",
       "      <td>218.471659</td>\n",
       "    </tr>\n",
       "    <tr>\n",
       "      <td>3849</td>\n",
       "      <td>26/05/2020</td>\n",
       "      <td>229.039993</td>\n",
       "      <td>33055300</td>\n",
       "      <td>67.386922</td>\n",
       "      <td>0.149254</td>\n",
       "      <td>-0.002700</td>\n",
       "      <td>225.136444</td>\n",
       "      <td>219.300425</td>\n",
       "    </tr>\n",
       "    <tr>\n",
       "      <td>3850</td>\n",
       "      <td>27/05/2020</td>\n",
       "      <td>230.289993</td>\n",
       "      <td>55665600</td>\n",
       "      <td>79.804003</td>\n",
       "      <td>0.684014</td>\n",
       "      <td>0.005458</td>\n",
       "      <td>225.736990</td>\n",
       "      <td>220.021875</td>\n",
       "    </tr>\n",
       "    <tr>\n",
       "      <td>3851</td>\n",
       "      <td>28/05/2020</td>\n",
       "      <td>229.990006</td>\n",
       "      <td>42784300</td>\n",
       "      <td>75.216339</td>\n",
       "      <td>-0.231405</td>\n",
       "      <td>-0.001303</td>\n",
       "      <td>226.437452</td>\n",
       "      <td>220.782476</td>\n",
       "    </tr>\n",
       "  </tbody>\n",
       "</table>\n",
       "<p>851 rows × 8 columns</p>\n",
       "</div>"
      ],
      "text/plain": [
       "            Date       Close    Volume        RSI  pct change volume  \\\n",
       "3001  10/01/2017  122.599999  16176600  63.777099          -0.144512   \n",
       "3002  11/01/2017  122.930000  20686000  76.068443           0.278761   \n",
       "3003  12/01/2017  122.739998  19622500  75.809210          -0.051412   \n",
       "3004  13/01/2017  123.160004  16930800  96.245015          -0.137174   \n",
       "3005  17/01/2017  122.790001  14538500  87.185266          -0.141299   \n",
       "...          ...         ...       ...        ...                ...   \n",
       "3847  21/05/2020  228.869995  43642900  57.940588           0.166392   \n",
       "3848  22/05/2020  229.660004  28762400  55.805262          -0.340960   \n",
       "3849  26/05/2020  229.039993  33055300  67.386922           0.149254   \n",
       "3850  27/05/2020  230.289993  55665600  79.804003           0.684014   \n",
       "3851  28/05/2020  229.990006  42784300  75.216339          -0.231405   \n",
       "\n",
       "      pct change price      12 EMA      26 EMA  \n",
       "3001          0.002207  120.536328  119.742700  \n",
       "3002          0.002692  120.853815  119.954351  \n",
       "3003         -0.001546  121.173228  120.174770  \n",
       "3004          0.003422  121.414270  120.364787  \n",
       "3005         -0.003004  121.682844  120.571840  \n",
       "...                ...         ...         ...  \n",
       "3847         -0.010891  223.485612  217.639792  \n",
       "3848          0.003452  224.313979  218.471659  \n",
       "3849         -0.002700  225.136444  219.300425  \n",
       "3850          0.005458  225.736990  220.021875  \n",
       "3851         -0.001303  226.437452  220.782476  \n",
       "\n",
       "[851 rows x 8 columns]"
      ]
     },
     "execution_count": 5,
     "metadata": {},
     "output_type": "execute_result"
    }
   ],
   "source": [
    "df_test"
   ]
  },
  {
   "cell_type": "code",
   "execution_count": 58,
   "metadata": {},
   "outputs": [],
   "source": [
    "training_data = df_train.drop('Date', axis =1)\n",
    "df_test = df_test.drop('Date', axis =1)"
   ]
  },
  {
   "cell_type": "code",
   "execution_count": 59,
   "metadata": {},
   "outputs": [],
   "source": [
    "scaler = MinMaxScaler()\n",
    "training_data = scaler.fit_transform(training_data)"
   ]
  },
  {
   "cell_type": "code",
   "execution_count": 8,
   "metadata": {},
   "outputs": [
    {
     "data": {
      "text/plain": [
       "(3000, 7)"
      ]
     },
     "execution_count": 8,
     "metadata": {},
     "output_type": "execute_result"
    }
   ],
   "source": [
    "training_data.shape"
   ]
  },
  {
   "cell_type": "code",
   "execution_count": 9,
   "metadata": {},
   "outputs": [],
   "source": [
    "X_train = []\n",
    "y_train = []\n",
    "\n",
    "#use past 60 days to predict next day\n",
    "for i in range(60, training_data.shape[0]):\n",
    "    X_train.append(training_data[i-60:i])\n",
    "    y_train.append(training_data[i, 0])\n",
    "    \n",
    "X_train, y_train = np.array(X_train), np.array(y_train)"
   ]
  },
  {
   "cell_type": "code",
   "execution_count": 12,
   "metadata": {},
   "outputs": [
    {
     "data": {
      "text/plain": [
       "(2940, 60, 7)"
      ]
     },
     "execution_count": 12,
     "metadata": {},
     "output_type": "execute_result"
    }
   ],
   "source": [
    "X_train.shape"
   ]
  },
  {
   "cell_type": "code",
   "execution_count": 13,
   "metadata": {},
   "outputs": [],
   "source": [
    "from tensorflow.keras import Sequential\n",
    "from tensorflow.keras.layers import Dense, LSTM, Dropout"
   ]
  },
  {
   "cell_type": "code",
   "execution_count": 14,
   "metadata": {},
   "outputs": [
    {
     "name": "stdout",
     "output_type": "stream",
     "text": [
      "Train on 2940 samples\n",
      "Epoch 1/25\n",
      "2940/2940 [==============================] - 21s 7ms/sample - loss: 0.01952s - lo\n",
      "Epoch 2/25\n",
      "2940/2940 [==============================] - 14s 5ms/sample - loss: 0.0027\n",
      "Epoch 3/25\n",
      "2940/2940 [==============================] - 13s 5ms/sample - loss: 0.0025\n",
      "Epoch 4/25\n",
      "2940/2940 [==============================] - 13s 5ms/sample - loss: 0.0023\n",
      "Epoch 5/25\n",
      "2940/2940 [==============================] - 13s 5ms/sample - loss: 0.0022\n",
      "Epoch 6/25\n",
      "2940/2940 [==============================] - 13s 5ms/sample - loss: 0.0020\n",
      "Epoch 7/25\n",
      "2940/2940 [==============================] - 13s 5ms/sample - loss: 0.0018\n",
      "Epoch 8/25\n",
      "2940/2940 [==============================] - 14s 5ms/sample - loss: 0.0019\n",
      "Epoch 9/25\n",
      "2940/2940 [==============================] - 13s 5ms/sample - loss: 0.0020\n",
      "Epoch 10/25\n",
      "2940/2940 [==============================] - 13s 5ms/sample - loss: 0.0019\n",
      "Epoch 11/25\n",
      "2940/2940 [==============================] - 13s 5ms/sample - loss: 0.0018\n",
      "Epoch 12/25\n",
      "2940/2940 [==============================] - 13s 5ms/sample - loss: 0.0017\n",
      "Epoch 13/25\n",
      "2940/2940 [==============================] - 13s 5ms/sample - loss: 0.0018\n",
      "Epoch 14/25\n",
      "2940/2940 [==============================] - 14s 5ms/sample - loss: 0.0016\n",
      "Epoch 15/25\n",
      "2940/2940 [==============================] - 13s 5ms/sample - loss: 0.0016\n",
      "Epoch 16/25\n",
      "2940/2940 [==============================] - 13s 5ms/sample - loss: 0.0015\n",
      "Epoch 17/25\n",
      "2940/2940 [==============================] - 13s 4ms/sample - loss: 0.0014\n",
      "Epoch 18/25\n",
      "2940/2940 [==============================] - 13s 4ms/sample - loss: 0.0017\n",
      "Epoch 19/25\n",
      "2940/2940 [==============================] - 13s 4ms/sample - loss: 0.0017\n",
      "Epoch 20/25\n",
      "2940/2940 [==============================] - 13s 4ms/sample - loss: 0.0013\n",
      "Epoch 21/25\n",
      "2940/2940 [==============================] - 13s 4ms/sample - loss: 0.0013\n",
      "Epoch 22/25\n",
      "2940/2940 [==============================] - 13s 4ms/sample - loss: 0.0013\n",
      "Epoch 23/25\n",
      "2940/2940 [==============================] - 13s 4ms/sample - loss: 0.0015\n",
      "Epoch 24/25\n",
      "2940/2940 [==============================] - 13s 4ms/sample - loss: 0.0013\n",
      "Epoch 25/25\n",
      "2940/2940 [==============================] - 13s 4ms/sample - loss: 0.0013\n"
     ]
    },
    {
     "data": {
      "text/plain": [
       "<tensorflow.python.keras.callbacks.History at 0x25f9c80b710>"
      ]
     },
     "execution_count": 14,
     "metadata": {},
     "output_type": "execute_result"
    }
   ],
   "source": [
    "regressor = Sequential()\n",
    "\n",
    "regressor.add(LSTM(units = 50, activation = 'relu', return_sequences = True, input_shape = (X_train.shape[1], 7)))\n",
    "regressor.add(Dropout(0.2))\n",
    "\n",
    "regressor.add(LSTM(units = 60, activation = 'relu', return_sequences = True))\n",
    "regressor.add(Dropout(0.2))\n",
    "\n",
    "regressor.add(LSTM(units = 80, activation = 'relu', return_sequences = True))\n",
    "regressor.add(Dropout(0.2))\n",
    "\n",
    "regressor.add(LSTM(units = 120, activation = 'relu'))\n",
    "regressor.add(Dropout(0.2))\n",
    "\n",
    "regressor.add(Dense(units=1))\n",
    "\n",
    "regressor.compile(optimizer = 'adam', loss = 'mean_squared_error')\n",
    "\n",
    "regressor.fit(X_train, y_train, epochs = 25, batch_size = 32)"
   ]
  },
  {
   "cell_type": "code",
   "execution_count": null,
   "metadata": {},
   "outputs": [],
   "source": []
  },
  {
   "cell_type": "code",
   "execution_count": 81,
   "metadata": {},
   "outputs": [
    {
     "data": {
      "text/html": [
       "<div>\n",
       "<style scoped>\n",
       "    .dataframe tbody tr th:only-of-type {\n",
       "        vertical-align: middle;\n",
       "    }\n",
       "\n",
       "    .dataframe tbody tr th {\n",
       "        vertical-align: top;\n",
       "    }\n",
       "\n",
       "    .dataframe thead th {\n",
       "        text-align: right;\n",
       "    }\n",
       "</style>\n",
       "<table border=\"1\" class=\"dataframe\">\n",
       "  <thead>\n",
       "    <tr style=\"text-align: right;\">\n",
       "      <th></th>\n",
       "      <th>Close</th>\n",
       "      <th>Volume</th>\n",
       "      <th>RSI</th>\n",
       "      <th>pct change volume</th>\n",
       "      <th>pct change price</th>\n",
       "      <th>12 EMA</th>\n",
       "      <th>26 EMA</th>\n",
       "    </tr>\n",
       "  </thead>\n",
       "  <tbody>\n",
       "    <tr>\n",
       "      <td>9</td>\n",
       "      <td>36.889999</td>\n",
       "      <td>121232000</td>\n",
       "      <td>35.191592</td>\n",
       "      <td>0.752951</td>\n",
       "      <td>-0.012316</td>\n",
       "      <td>37.596845</td>\n",
       "      <td>37.733766</td>\n",
       "    </tr>\n",
       "    <tr>\n",
       "      <td>10</td>\n",
       "      <td>36.939999</td>\n",
       "      <td>95010100</td>\n",
       "      <td>46.288162</td>\n",
       "      <td>-0.216295</td>\n",
       "      <td>0.001355</td>\n",
       "      <td>37.488100</td>\n",
       "      <td>37.671265</td>\n",
       "    </tr>\n",
       "    <tr>\n",
       "      <td>11</td>\n",
       "      <td>37.410000</td>\n",
       "      <td>99334600</td>\n",
       "      <td>54.779385</td>\n",
       "      <td>0.045516</td>\n",
       "      <td>0.012723</td>\n",
       "      <td>37.403777</td>\n",
       "      <td>37.617097</td>\n",
       "    </tr>\n",
       "    <tr>\n",
       "      <td>12</td>\n",
       "      <td>37.619999</td>\n",
       "      <td>79988700</td>\n",
       "      <td>48.319287</td>\n",
       "      <td>-0.194755</td>\n",
       "      <td>0.005613</td>\n",
       "      <td>37.404734</td>\n",
       "      <td>37.601756</td>\n",
       "    </tr>\n",
       "    <tr>\n",
       "      <td>13</td>\n",
       "      <td>37.220001</td>\n",
       "      <td>95731300</td>\n",
       "      <td>37.547921</td>\n",
       "      <td>0.196810</td>\n",
       "      <td>-0.010633</td>\n",
       "      <td>37.437852</td>\n",
       "      <td>37.603108</td>\n",
       "    </tr>\n",
       "  </tbody>\n",
       "</table>\n",
       "</div>"
      ],
      "text/plain": [
       "        Close     Volume        RSI  pct change volume  pct change price  \\\n",
       "9   36.889999  121232000  35.191592           0.752951         -0.012316   \n",
       "10  36.939999   95010100  46.288162          -0.216295          0.001355   \n",
       "11  37.410000   99334600  54.779385           0.045516          0.012723   \n",
       "12  37.619999   79988700  48.319287          -0.194755          0.005613   \n",
       "13  37.220001   95731300  37.547921           0.196810         -0.010633   \n",
       "\n",
       "       12 EMA     26 EMA  \n",
       "9   37.596845  37.733766  \n",
       "10  37.488100  37.671265  \n",
       "11  37.403777  37.617097  \n",
       "12  37.404734  37.601756  \n",
       "13  37.437852  37.603108  "
      ]
     },
     "execution_count": 81,
     "metadata": {},
     "output_type": "execute_result"
    }
   ],
   "source": [
    "df_test.head()"
   ]
  },
  {
   "cell_type": "code",
   "execution_count": 17,
   "metadata": {},
   "outputs": [],
   "source": []
  },
  {
   "cell_type": "code",
   "execution_count": 36,
   "metadata": {},
   "outputs": [
    {
     "data": {
      "text/html": [
       "<div>\n",
       "<style scoped>\n",
       "    .dataframe tbody tr th:only-of-type {\n",
       "        vertical-align: middle;\n",
       "    }\n",
       "\n",
       "    .dataframe tbody tr th {\n",
       "        vertical-align: top;\n",
       "    }\n",
       "\n",
       "    .dataframe thead th {\n",
       "        text-align: right;\n",
       "    }\n",
       "</style>\n",
       "<table border=\"1\" class=\"dataframe\">\n",
       "  <thead>\n",
       "    <tr style=\"text-align: right;\">\n",
       "      <th></th>\n",
       "      <th>Close</th>\n",
       "      <th>Volume</th>\n",
       "      <th>RSI</th>\n",
       "      <th>pct change volume</th>\n",
       "      <th>pct change price</th>\n",
       "      <th>12 EMA</th>\n",
       "      <th>26 EMA</th>\n",
       "    </tr>\n",
       "  </thead>\n",
       "  <tbody>\n",
       "    <tr>\n",
       "      <td>2995</td>\n",
       "      <td>118.480003</td>\n",
       "      <td>41749000</td>\n",
       "      <td>37.330367</td>\n",
       "      <td>2.146712</td>\n",
       "      <td>-0.010275</td>\n",
       "      <td>119.865931</td>\n",
       "      <td>119.163692</td>\n",
       "    </tr>\n",
       "    <tr>\n",
       "      <td>2996</td>\n",
       "      <td>119.540001</td>\n",
       "      <td>22307600</td>\n",
       "      <td>44.489021</td>\n",
       "      <td>-0.465673</td>\n",
       "      <td>0.008947</td>\n",
       "      <td>119.652711</td>\n",
       "      <td>119.113048</td>\n",
       "    </tr>\n",
       "    <tr>\n",
       "      <td>2997</td>\n",
       "      <td>120.190002</td>\n",
       "      <td>19749100</td>\n",
       "      <td>46.525086</td>\n",
       "      <td>-0.114692</td>\n",
       "      <td>0.005438</td>\n",
       "      <td>119.635371</td>\n",
       "      <td>119.144674</td>\n",
       "    </tr>\n",
       "    <tr>\n",
       "      <td>2998</td>\n",
       "      <td>120.870003</td>\n",
       "      <td>20644300</td>\n",
       "      <td>53.552898</td>\n",
       "      <td>0.045329</td>\n",
       "      <td>0.005658</td>\n",
       "      <td>119.720699</td>\n",
       "      <td>119.222106</td>\n",
       "    </tr>\n",
       "    <tr>\n",
       "      <td>2999</td>\n",
       "      <td>121.930000</td>\n",
       "      <td>24074300</td>\n",
       "      <td>63.944532</td>\n",
       "      <td>0.166148</td>\n",
       "      <td>0.008770</td>\n",
       "      <td>119.897515</td>\n",
       "      <td>119.344173</td>\n",
       "    </tr>\n",
       "  </tbody>\n",
       "</table>\n",
       "</div>"
      ],
      "text/plain": [
       "           Close    Volume        RSI  pct change volume  pct change price  \\\n",
       "2995  118.480003  41749000  37.330367           2.146712         -0.010275   \n",
       "2996  119.540001  22307600  44.489021          -0.465673          0.008947   \n",
       "2997  120.190002  19749100  46.525086          -0.114692          0.005438   \n",
       "2998  120.870003  20644300  53.552898           0.045329          0.005658   \n",
       "2999  121.930000  24074300  63.944532           0.166148          0.008770   \n",
       "\n",
       "          12 EMA      26 EMA  \n",
       "2995  119.865931  119.163692  \n",
       "2996  119.652711  119.113048  \n",
       "2997  119.635371  119.144674  \n",
       "2998  119.720699  119.222106  \n",
       "2999  119.897515  119.344173  "
      ]
     },
     "execution_count": 36,
     "metadata": {},
     "output_type": "execute_result"
    }
   ],
   "source": [
    "past_60_days.tail()"
   ]
  },
  {
   "cell_type": "code",
   "execution_count": 70,
   "metadata": {},
   "outputs": [
    {
     "data": {
      "text/plain": [
       "(60, 7)"
      ]
     },
     "execution_count": 70,
     "metadata": {},
     "output_type": "execute_result"
    }
   ],
   "source": [
    "X_test.shape"
   ]
  },
  {
   "cell_type": "code",
   "execution_count": 69,
   "metadata": {},
   "outputs": [
    {
     "data": {
      "text/plain": [
       "array([[82.80713]], dtype=float32)"
      ]
     },
     "execution_count": 69,
     "metadata": {},
     "output_type": "execute_result"
    }
   ],
   "source": [
    "# test\n",
    "#scaler = MinMaxScaler()\n",
    "X_test = past_60_days\n",
    "X_test = scaler.transform(X_test)\n",
    "X_test = np.array(X_test)\n",
    "y_pred = regressor.predict(X_test.reshape(1,60,7))\n",
    "y_pred/scaler.scale_[0] "
   ]
  },
  {
   "cell_type": "code",
   "execution_count": 71,
   "metadata": {},
   "outputs": [],
   "source": [
    "\n",
    "past_60_days = df_train.drop('Date',axis=1).tail(60)\n",
    "df = past_60_days.append(df_test, ignore_index = True)\n",
    "\n",
    "inputs = scaler.transform(df)"
   ]
  },
  {
   "cell_type": "code",
   "execution_count": 72,
   "metadata": {},
   "outputs": [],
   "source": [
    "X_test = []\n",
    "y_test = []\n",
    "\n",
    "for i in range(60, inputs.shape[0]):\n",
    "    X_test.append(inputs[i-60:i])\n",
    "    y_test.append(inputs[i, 0])"
   ]
  },
  {
   "cell_type": "code",
   "execution_count": 73,
   "metadata": {},
   "outputs": [
    {
     "data": {
      "text/plain": [
       "((851, 60, 7), (851,))"
      ]
     },
     "execution_count": 73,
     "metadata": {},
     "output_type": "execute_result"
    }
   ],
   "source": [
    "X_test = np.array(X_test)\n",
    "y_test = np.array(y_test)\n",
    "X_test.shape, y_test.shape"
   ]
  },
  {
   "cell_type": "code",
   "execution_count": 77,
   "metadata": {},
   "outputs": [],
   "source": [
    "y_pred = regressor.predict(X_test[0].reshape(1,60,7))"
   ]
  },
  {
   "cell_type": "code",
   "execution_count": 78,
   "metadata": {},
   "outputs": [
    {
     "data": {
      "text/plain": [
       "array([1.03766731e-02, 1.64016972e-09, 1.00000000e-02, 2.42692429e-01,\n",
       "       4.73475343e+00, 1.07969595e-02, 1.09605602e-02])"
      ]
     },
     "execution_count": 78,
     "metadata": {},
     "output_type": "execute_result"
    }
   ],
   "source": [
    "scaler.scale_"
   ]
  },
  {
   "cell_type": "code",
   "execution_count": 79,
   "metadata": {},
   "outputs": [],
   "source": [
    "scale = 1/4.72992157e-03\n",
    "\n",
    "y_pred = y_pred*scale\n",
    "#y_test = y_test*scale"
   ]
  },
  {
   "cell_type": "code",
   "execution_count": 80,
   "metadata": {},
   "outputs": [
    {
     "data": {
      "text/plain": [
       "array([[181.66528]], dtype=float32)"
      ]
     },
     "execution_count": 80,
     "metadata": {},
     "output_type": "execute_result"
    }
   ],
   "source": [
    "y_pred"
   ]
  },
  {
   "cell_type": "code",
   "execution_count": 94,
   "metadata": {},
   "outputs": [
    {
     "data": {
      "image/png": "[encoded data removed]",
      "text/plain": [
       "<Figure size 1008x1080 with 1 Axes>"
      ]
     },
     "metadata": {
      "needs_background": "light"
     },
     "output_type": "display_data"
    }
   ],
   "source": [
    "#date 0 = 2017-12-31\n",
    "\n",
    "plt.figure(figsize = (14,15))\n",
    "plt.plot(y_test, color = 'red', label = 'Real QQQ stock price')\n",
    "plt.plot(y_pred, color = 'blue', label = 'predicted QQQ stock price')\n",
    "plt.title('SPY stock price prediction')\n",
    "plt.xlabel('Time')\n",
    "plt.ylabel('QQQ stock Price')\n",
    "plt.legend()\n",
    "plt.show()"
   ]
  },
  {
   "cell_type": "code",
   "execution_count": null,
   "metadata": {},
   "outputs": [],
   "source": [
    "df_train = df[df['Date']< '2017-12-31'].copy()\n",
    "df_test = df[df['Date']>='2017-12-31'].copy()"
   ]
  },
  {
   "cell_type": "code",
   "execution_count": 96,
   "metadata": {},
   "outputs": [
    {
     "data": {
      "text/html": [
       "<div>\n",
       "<style scoped>\n",
       "    .dataframe tbody tr th:only-of-type {\n",
       "        vertical-align: middle;\n",
       "    }\n",
       "\n",
       "    .dataframe tbody tr th {\n",
       "        vertical-align: top;\n",
       "    }\n",
       "\n",
       "    .dataframe thead th {\n",
       "        text-align: right;\n",
       "    }\n",
       "</style>\n",
       "<table border=\"1\" class=\"dataframe\">\n",
       "  <thead>\n",
       "    <tr style=\"text-align: right;\">\n",
       "      <th></th>\n",
       "      <th>Close</th>\n",
       "      <th>Volume</th>\n",
       "      <th>RSI</th>\n",
       "      <th>pct change volume</th>\n",
       "      <th>pct change price</th>\n",
       "      <th>12 EMA</th>\n",
       "      <th>26 EMA</th>\n",
       "    </tr>\n",
       "  </thead>\n",
       "  <tbody>\n",
       "    <tr>\n",
       "      <td>9</td>\n",
       "      <td>36.889999</td>\n",
       "      <td>121232000</td>\n",
       "      <td>35.191592</td>\n",
       "      <td>0.752951</td>\n",
       "      <td>-0.012316</td>\n",
       "      <td>37.596845</td>\n",
       "      <td>37.733766</td>\n",
       "    </tr>\n",
       "    <tr>\n",
       "      <td>10</td>\n",
       "      <td>36.939999</td>\n",
       "      <td>95010100</td>\n",
       "      <td>46.288162</td>\n",
       "      <td>-0.216295</td>\n",
       "      <td>0.001355</td>\n",
       "      <td>37.488100</td>\n",
       "      <td>37.671265</td>\n",
       "    </tr>\n",
       "    <tr>\n",
       "      <td>11</td>\n",
       "      <td>37.410000</td>\n",
       "      <td>99334600</td>\n",
       "      <td>54.779385</td>\n",
       "      <td>0.045516</td>\n",
       "      <td>0.012723</td>\n",
       "      <td>37.403777</td>\n",
       "      <td>37.617097</td>\n",
       "    </tr>\n",
       "    <tr>\n",
       "      <td>12</td>\n",
       "      <td>37.619999</td>\n",
       "      <td>79988700</td>\n",
       "      <td>48.319287</td>\n",
       "      <td>-0.194755</td>\n",
       "      <td>0.005613</td>\n",
       "      <td>37.404734</td>\n",
       "      <td>37.601756</td>\n",
       "    </tr>\n",
       "    <tr>\n",
       "      <td>13</td>\n",
       "      <td>37.220001</td>\n",
       "      <td>95731300</td>\n",
       "      <td>37.547921</td>\n",
       "      <td>0.196810</td>\n",
       "      <td>-0.010633</td>\n",
       "      <td>37.437852</td>\n",
       "      <td>37.603108</td>\n",
       "    </tr>\n",
       "  </tbody>\n",
       "</table>\n",
       "</div>"
      ],
      "text/plain": [
       "        Close     Volume        RSI  pct change volume  pct change price  \\\n",
       "9   36.889999  121232000  35.191592           0.752951         -0.012316   \n",
       "10  36.939999   95010100  46.288162          -0.216295          0.001355   \n",
       "11  37.410000   99334600  54.779385           0.045516          0.012723   \n",
       "12  37.619999   79988700  48.319287          -0.194755          0.005613   \n",
       "13  37.220001   95731300  37.547921           0.196810         -0.010633   \n",
       "\n",
       "       12 EMA     26 EMA  \n",
       "9   37.596845  37.733766  \n",
       "10  37.488100  37.671265  \n",
       "11  37.403777  37.617097  \n",
       "12  37.404734  37.601756  \n",
       "13  37.437852  37.603108  "
      ]
     },
     "execution_count": 96,
     "metadata": {},
     "output_type": "execute_result"
    }
   ],
   "source": [
    "df_test.head()"
   ]
  },
  {
   "cell_type": "code",
   "execution_count": 109,
   "metadata": {},
   "outputs": [
    {
     "data": {
      "text/html": [
       "<div>\n",
       "<style scoped>\n",
       "    .dataframe tbody tr th:only-of-type {\n",
       "        vertical-align: middle;\n",
       "    }\n",
       "\n",
       "    .dataframe tbody tr th {\n",
       "        vertical-align: top;\n",
       "    }\n",
       "\n",
       "    .dataframe thead th {\n",
       "        text-align: right;\n",
       "    }\n",
       "</style>\n",
       "<table border=\"1\" class=\"dataframe\">\n",
       "  <thead>\n",
       "    <tr style=\"text-align: right;\">\n",
       "      <th></th>\n",
       "      <th>Close</th>\n",
       "      <th>Volume</th>\n",
       "      <th>RSI</th>\n",
       "      <th>pct change volume</th>\n",
       "      <th>pct change price</th>\n",
       "      <th>12 EMA</th>\n",
       "      <th>26 EMA</th>\n",
       "    </tr>\n",
       "  </thead>\n",
       "  <tbody>\n",
       "    <tr>\n",
       "      <td>0</td>\n",
       "      <td>43.110001</td>\n",
       "      <td>118956000.0</td>\n",
       "      <td>35.250471</td>\n",
       "      <td>0.260736</td>\n",
       "      <td>0.010312</td>\n",
       "      <td>43.667772</td>\n",
       "      <td>44.864230</td>\n",
       "    </tr>\n",
       "    <tr>\n",
       "      <td>1</td>\n",
       "      <td>43.020000</td>\n",
       "      <td>94102900.0</td>\n",
       "      <td>43.879924</td>\n",
       "      <td>-0.208927</td>\n",
       "      <td>-0.002088</td>\n",
       "      <td>43.581961</td>\n",
       "      <td>44.734287</td>\n",
       "    </tr>\n",
       "    <tr>\n",
       "      <td>2</td>\n",
       "      <td>43.669998</td>\n",
       "      <td>93050800.0</td>\n",
       "      <td>60.426505</td>\n",
       "      <td>-0.011180</td>\n",
       "      <td>0.015109</td>\n",
       "      <td>43.495506</td>\n",
       "      <td>44.607303</td>\n",
       "    </tr>\n",
       "    <tr>\n",
       "      <td>3</td>\n",
       "      <td>43.759998</td>\n",
       "      <td>93938500.0</td>\n",
       "      <td>56.510410</td>\n",
       "      <td>0.009540</td>\n",
       "      <td>0.002061</td>\n",
       "      <td>43.522351</td>\n",
       "      <td>44.537873</td>\n",
       "    </tr>\n",
       "    <tr>\n",
       "      <td>4</td>\n",
       "      <td>44.320000</td>\n",
       "      <td>83861400.0</td>\n",
       "      <td>58.354087</td>\n",
       "      <td>-0.107273</td>\n",
       "      <td>0.012797</td>\n",
       "      <td>43.558912</td>\n",
       "      <td>44.480253</td>\n",
       "    </tr>\n",
       "  </tbody>\n",
       "</table>\n",
       "</div>"
      ],
      "text/plain": [
       "       Close       Volume        RSI  pct change volume  pct change price  \\\n",
       "0  43.110001  118956000.0  35.250471           0.260736          0.010312   \n",
       "1  43.020000   94102900.0  43.879924          -0.208927         -0.002088   \n",
       "2  43.669998   93050800.0  60.426505          -0.011180          0.015109   \n",
       "3  43.759998   93938500.0  56.510410           0.009540          0.002061   \n",
       "4  44.320000   83861400.0  58.354087          -0.107273          0.012797   \n",
       "\n",
       "      12 EMA     26 EMA  \n",
       "0  43.667772  44.864230  \n",
       "1  43.581961  44.734287  \n",
       "2  43.495506  44.607303  \n",
       "3  43.522351  44.537873  \n",
       "4  43.558912  44.480253  "
      ]
     },
     "execution_count": 109,
     "metadata": {},
     "output_type": "execute_result"
    }
   ],
   "source": [
    "input_df = pd.read_csv('QQQ 2010-1-1 to 2020-6-20.csv').drop('Date',axis = 1)\n",
    "input_df.head()"
   ]
  },
  {
   "cell_type": "code",
   "execution_count": 110,
   "metadata": {},
   "outputs": [],
   "source": [
    "X_test = []\n",
    "y_test = []\n",
    "inputs = scaler.transform(input_df)\n",
    "for i in range(60, inputs.shape[0]):\n",
    "    X_test.append(inputs[i-60:i])"
   ]
  },
  {
   "cell_type": "code",
   "execution_count": 111,
   "metadata": {},
   "outputs": [],
   "source": [
    "X_test = np.array(X_test)"
   ]
  },
  {
   "cell_type": "code",
   "execution_count": 112,
   "metadata": {},
   "outputs": [],
   "source": [
    "y_pred = regressor.predict(X_test)"
   ]
  },
  {
   "cell_type": "code",
   "execution_count": 114,
   "metadata": {},
   "outputs": [
    {
     "data": {
      "text/plain": [
       "array([4.72992157e-03, 1.64816329e-09, 1.00000000e-02, 2.45202060e-01,\n",
       "       4.14189472e+00, 4.89493330e-03, 5.03543967e-03])"
      ]
     },
     "execution_count": 114,
     "metadata": {},
     "output_type": "execute_result"
    }
   ],
   "source": [
    "scaler.scale_"
   ]
  },
  {
   "cell_type": "code",
   "execution_count": 115,
   "metadata": {},
   "outputs": [],
   "source": [
    "y_pred = y_pred/4.72992157e-03"
   ]
  }
 ],
 "metadata": {
  "kernelspec": {
   "display_name": "Python 3",
   "language": "python",
   "name": "python3"
  },
  "language_info": {
   "codemirror_mode": {
    "name": "ipython",
    "version": 3
   },
   "file_extension": ".py",
   "mimetype": "text/x-python",
   "name": "python",
   "nbconvert_exporter": "python",
   "pygments_lexer": "ipython3",
   "version": "3.6.8"
  }
 },
 "nbformat": 4,
 "nbformat_minor": 4
}
