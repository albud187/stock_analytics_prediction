{
 "cells": [
  {
   "cell_type": "code",
   "execution_count": 1,
   "metadata": {},
   "outputs": [],
   "source": [
    "import datetime as dt\n",
    "from datetime import date\n",
    "import matplotlib.pyplot as plt\n",
    "from matplotlib import style\n",
    "import pandas as pd\n",
    "import pandas_datareader.data as web\n",
    "import numpy as np\n",
    "import time\n",
    "from sklearn.preprocessing import MinMaxScaler\n",
    "\n",
    "from tensorflow.keras import Sequential\n",
    "from tensorflow.keras.layers import Dense, LSTM, Dropout"
   ]
  },
  {
   "cell_type": "code",
   "execution_count": 16,
   "metadata": {},
   "outputs": [],
   "source": [
    "def format_data(df,start, end):\n",
    "    training_data = df[start:end].drop('Date', axis = 1)\n",
    "    return(training_data)\n",
    "        \n",
    "\n",
    "def create_xy(training_data, samples, forecast):\n",
    "    x = []\n",
    "    y = []\n",
    "    L = len(training_data)\n",
    "    samples = 100\n",
    "    forecast = 20\n",
    "\n",
    "    for i in range(samples, L - forecast):\n",
    "        x.append(np.array(training_data[i-samples:i]))\n",
    "        y.append(np.array(training_data[i+1:i+1+forecast]['pct chage price']))\n",
    "    x = np.array(x)\n",
    "    y = np.array(y)\n",
    "    \n",
    "    return([x,y])\n",
    "\n",
    "end = dt.datetime(2020,6,21)\n",
    "start = dt.datetime(2005,1,1)\n",
    "\n",
    "def ticker_df(ticker, start, end):\n",
    "    source = 'yahoo'\n",
    "    df = web.DataReader(ticker, source, start, end)\n",
    "    return df.drop(['High', 'Low', 'Open', 'Adj Close'], axis = 1)\n",
    "\n",
    "SPY = ticker_df('SPY', start, end)\n",
    "IWM = ticker_df('IWM', start, end)\n",
    "QQQ = ticker_df('QQQ', start, end)\n",
    "VXX = ticker_df('VXX', start, end)"
   ]
  },
  {
   "cell_type": "code",
   "execution_count": 26,
   "metadata": {},
   "outputs": [
    {
     "ename": "TypeError",
     "evalue": "copy() got an unexpected keyword argument 'ignore_index'",
     "output_type": "error",
     "traceback": [
      "\u001b[1;31m---------------------------------------------------------------------------\u001b[0m",
      "\u001b[1;31mTypeError\u001b[0m                                 Traceback (most recent call last)",
      "\u001b[1;32m<ipython-input-26-9cddf22e877a>\u001b[0m in \u001b[0;36m<module>\u001b[1;34m\u001b[0m\n\u001b[0;32m      1\u001b[0m \u001b[1;31m#QQQ.drop(['Volume'], axis = 1, inplace = True)\u001b[0m\u001b[1;33m\u001b[0m\u001b[1;33m\u001b[0m\u001b[1;33m\u001b[0m\u001b[0m\n\u001b[1;32m----> 2\u001b[1;33m \u001b[0mQQQ2\u001b[0m \u001b[1;33m=\u001b[0m \u001b[0mQQQ\u001b[0m\u001b[1;33m.\u001b[0m\u001b[0mcopy\u001b[0m\u001b[1;33m(\u001b[0m\u001b[0mignore_index\u001b[0m \u001b[1;33m=\u001b[0m \u001b[1;32mTrue\u001b[0m\u001b[1;33m)\u001b[0m\u001b[1;33m\u001b[0m\u001b[1;33m\u001b[0m\u001b[0m\n\u001b[0m",
      "\u001b[1;31mTypeError\u001b[0m: copy() got an unexpected keyword argument 'ignore_index'"
     ]
    }
   ],
   "source": [
    "#QQQ.drop(['Volume'], axis = 1, inplace = True)\n",
    "QQQ2 = QQQ.copy(ignore_index = True)"
   ]
  },
  {
   "cell_type": "code",
   "execution_count": 27,
   "metadata": {},
   "outputs": [],
   "source": [
    "a = list(QQQ['Close'])"
   ]
  },
  {
   "cell_type": "code",
   "execution_count": 29,
   "metadata": {},
   "outputs": [],
   "source": [
    "a.append(0)"
   ]
  },
  {
   "cell_type": "code",
   "execution_count": 39,
   "metadata": {},
   "outputs": [
    {
     "data": {
      "text/plain": [
       "[243.6199951171875, 244.27999877929688, 244.24000549316406, 0]"
      ]
     },
     "execution_count": 39,
     "metadata": {},
     "output_type": "execute_result"
    }
   ],
   "source": [
    "a[3890:]"
   ]
  },
  {
   "cell_type": "code",
   "execution_count": 53,
   "metadata": {},
   "outputs": [],
   "source": [
    "y_pred = pred(x_test)"
   ]
  },
  {
   "cell_type": "code",
   "execution_count": 64,
   "metadata": {},
   "outputs": [],
   "source": [
    "def pred(input):\n",
    "    return np.sum(np.array(input[-60:])/60)"
   ]
  },
  {
   "cell_type": "code",
   "execution_count": 89,
   "metadata": {},
   "outputs": [],
   "source": [
    "# predict\n",
    "forecast = 20\n",
    "for i in range(forecast):\n",
    "    \n",
    "    y_pred = pred(QQQ)\n",
    "    new_row ={'Close':y_pred}\n",
    "    QQQ = QQQ.append(new_row, ignore_index = True,)"
   ]
  },
  {
   "cell_type": "code",
   "execution_count": 76,
   "metadata": {},
   "outputs": [],
   "source": [
    "new_row = A[-1:]"
   ]
  },
  {
   "cell_type": "code",
   "execution_count": 78,
   "metadata": {},
   "outputs": [
    {
     "data": {
      "text/html": [
       "<div>\n",
       "<style scoped>\n",
       "    .dataframe tbody tr th:only-of-type {\n",
       "        vertical-align: middle;\n",
       "    }\n",
       "\n",
       "    .dataframe tbody tr th {\n",
       "        vertical-align: top;\n",
       "    }\n",
       "\n",
       "    .dataframe thead th {\n",
       "        text-align: right;\n",
       "    }\n",
       "</style>\n",
       "<table border=\"1\" class=\"dataframe\">\n",
       "  <thead>\n",
       "    <tr style=\"text-align: right;\">\n",
       "      <th></th>\n",
       "      <th>Close</th>\n",
       "    </tr>\n",
       "    <tr>\n",
       "      <th>Date</th>\n",
       "      <th></th>\n",
       "    </tr>\n",
       "  </thead>\n",
       "  <tbody>\n",
       "    <tr>\n",
       "      <td>2020-06-15</td>\n",
       "      <td>238.750000</td>\n",
       "    </tr>\n",
       "    <tr>\n",
       "      <td>2020-06-16</td>\n",
       "      <td>242.850006</td>\n",
       "    </tr>\n",
       "    <tr>\n",
       "      <td>2020-06-17</td>\n",
       "      <td>243.619995</td>\n",
       "    </tr>\n",
       "    <tr>\n",
       "      <td>2020-06-18</td>\n",
       "      <td>244.279999</td>\n",
       "    </tr>\n",
       "    <tr>\n",
       "      <td>2020-06-19</td>\n",
       "      <td>244.240005</td>\n",
       "    </tr>\n",
       "  </tbody>\n",
       "</table>\n",
       "</div>"
      ],
      "text/plain": [
       "                 Close\n",
       "Date                  \n",
       "2020-06-15  238.750000\n",
       "2020-06-16  242.850006\n",
       "2020-06-17  243.619995\n",
       "2020-06-18  244.279999\n",
       "2020-06-19  244.240005"
      ]
     },
     "execution_count": 78,
     "metadata": {},
     "output_type": "execute_result"
    }
   ],
   "source": [
    "QQQ.tail()"
   ]
  },
  {
   "cell_type": "code",
   "execution_count": 90,
   "metadata": {},
   "outputs": [
    {
     "data": {
      "text/html": [
       "<div>\n",
       "<style scoped>\n",
       "    .dataframe tbody tr th:only-of-type {\n",
       "        vertical-align: middle;\n",
       "    }\n",
       "\n",
       "    .dataframe tbody tr th {\n",
       "        vertical-align: top;\n",
       "    }\n",
       "\n",
       "    .dataframe thead th {\n",
       "        text-align: right;\n",
       "    }\n",
       "</style>\n",
       "<table border=\"1\" class=\"dataframe\">\n",
       "  <thead>\n",
       "    <tr style=\"text-align: right;\">\n",
       "      <th></th>\n",
       "      <th>Close</th>\n",
       "    </tr>\n",
       "  </thead>\n",
       "  <tbody>\n",
       "    <tr>\n",
       "      <td>3933</td>\n",
       "      <td>230.113101</td>\n",
       "    </tr>\n",
       "    <tr>\n",
       "      <td>3934</td>\n",
       "      <td>230.120653</td>\n",
       "    </tr>\n",
       "    <tr>\n",
       "      <td>3935</td>\n",
       "      <td>230.138664</td>\n",
       "    </tr>\n",
       "    <tr>\n",
       "      <td>3936</td>\n",
       "      <td>230.136142</td>\n",
       "    </tr>\n",
       "    <tr>\n",
       "      <td>3937</td>\n",
       "      <td>230.138578</td>\n",
       "    </tr>\n",
       "  </tbody>\n",
       "</table>\n",
       "</div>"
      ],
      "text/plain": [
       "           Close\n",
       "3933  230.113101\n",
       "3934  230.120653\n",
       "3935  230.138664\n",
       "3936  230.136142\n",
       "3937  230.138578"
      ]
     },
     "execution_count": 90,
     "metadata": {},
     "output_type": "execute_result"
    }
   ],
   "source": [
    "QQQ.tail()"
   ]
  },
  {
   "cell_type": "code",
   "execution_count": null,
   "metadata": {},
   "outputs": [],
   "source": []
  }
 ],
 "metadata": {
  "kernelspec": {
   "display_name": "Python 3",
   "language": "python",
   "name": "python3"
  },
  "language_info": {
   "codemirror_mode": {
    "name": "ipython",
    "version": 3
   },
   "file_extension": ".py",
   "mimetype": "text/x-python",
   "name": "python",
   "nbconvert_exporter": "python",
   "pygments_lexer": "ipython3",
   "version": "3.6.8"
  }
 },
 "nbformat": 4,
 "nbformat_minor": 4
}
