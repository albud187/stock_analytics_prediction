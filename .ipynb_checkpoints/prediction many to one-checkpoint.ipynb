{
 "cells": [
  {
   "cell_type": "code",
   "execution_count": 1,
   "metadata": {},
   "outputs": [],
   "source": [
    "import datetime as dt\n",
    "from datetime import date\n",
    "import matplotlib.pyplot as plt\n",
    "from matplotlib import style\n",
    "import pandas as pd\n",
    "import pandas_datareader.data as web\n",
    "import numpy as np\n",
    "import time\n",
    "from sklearn.preprocessing import MinMaxScaler\n",
    "\n",
    "from tensorflow.keras import Sequential\n",
    "from tensorflow.keras.layers import Dense, LSTM, Dropout\n",
    "\n",
    "# https://www.youtube.com/watch?v=QIUxPv5PJOY"
   ]
  },
  {
   "cell_type": "code",
   "execution_count": 109,
   "metadata": {},
   "outputs": [],
   "source": [
    "def format_data(df,start, end):\n",
    "    training_data = df[start:end].drop('Date', axis = 1)\n",
    "    return(training_data)\n",
    "        \n",
    "\n",
    "def create_xy(training_data, samples, forecast):\n",
    "    x = []\n",
    "    y = []\n",
    "    L = len(training_data)\n",
    "    samples = 100\n",
    "    forecast = 20\n",
    "\n",
    "    for i in range(samples, L - forecast):\n",
    "        x.append(np.array(training_data[i-samples:i]))\n",
    "        y.append(np.array(training_data[i+1:i+1+forecast]['pct chage price']))\n",
    "    x = np.array(x)\n",
    "    y = np.array(y)\n",
    "    \n",
    "    return([x,y])\n",
    "\n",
    "#returns list of RSI values over n periods\n",
    "def RSI(df, n):\n",
    "    L = len(df)\n",
    "    up = [0]*L\n",
    "    down = [0]*L\n",
    "    \n",
    "    for i in range(1,L):\n",
    "        if df['Close'][i-1] <= df['Close'][i]:\n",
    "            up[i] = df['Close'][i] - df['Close'][i-1]\n",
    "        if df['Close'][i-1] > df['Close'][i]:\n",
    "            down[i] = abs(df['Close'][i] - df['Close'][i-1])\n",
    "\n",
    "    avg_up= [0]*L\n",
    "    avg_down = [0]*L\n",
    "    \n",
    "    avg_up[n] = np.mean(up[1:n+1])\n",
    "    avg_down[n] = np.mean(down[1:n+1])\n",
    "    \n",
    "    for i in range(n+1,L):\n",
    "        avg_up[i] = (avg_up[i-1]*(n-1)+up[i])/n\n",
    "        avg_down[i] = (avg_down[i-1]*(n-1)+down[i])/n\n",
    "    \n",
    "    #return(avg_up,avg_down)\n",
    "    RSI = [0]*L\n",
    "    for i in range(n,L):\n",
    "        RSI[i]= 100 - 100/(1+ (avg_up[i-1]/avg_down[i]))\n",
    "    \n",
    "    return(RSI)\n",
    "\n",
    "\n",
    "##SMA, returns list of simple moving average over n periods\n",
    "def SMA(stock_df,n):\n",
    "    A = [0]*len(stock_df)\n",
    "    for i in range(len(stock_df)-n+1):\n",
    "        A[i+n-1] = np.mean(list(stock_df['Close'][i:i+n]))\n",
    "    return(A)\n",
    "\n",
    "#EMA, returns list of exponential moving average over n periods\n",
    "def EMA(stock_df,n):\n",
    "    mult = 2/(n+1)\n",
    "    A = [0]*len(stock_df)\n",
    "    A[n-1] = SMA(stock_df,n)[n-1]\n",
    "    for i in range(n-1,len(stock_df)-1):\n",
    "        A[i+1] = A[i]+(stock_df['Close'][i]-A[i])*mult\n",
    "    return(A)"
   ]
  },
  {
   "cell_type": "code",
   "execution_count": 123,
   "metadata": {},
   "outputs": [],
   "source": [
    "QQQ = pd.read_csv('dataset_QQQ_20140207_to_20181231.csv')\n",
    "QQQ.drop('Date', axis =1, inplace = True)"
   ]
  },
  {
   "cell_type": "code",
   "execution_count": 124,
   "metadata": {},
   "outputs": [],
   "source": [
    "QQQ_train = QQQ[0:1000].copy()\n",
    "QQQ_test = QQQ[1000:].copy()"
   ]
  },
  {
   "cell_type": "code",
   "execution_count": 138,
   "metadata": {},
   "outputs": [],
   "source": [
    "# predict loop test\n",
    "QQQ = pd.read_csv('dataset_QQQ_20140207_to_20181231.csv')\n",
    "QQQ.drop('Date', axis =1, inplace = True)\n",
    "QQQ_test = QQQ[0:1000].copy()\n",
    "\n",
    "\n",
    "def pred(input):\n",
    "   # y_pred = model.predict\n",
    "   # y_pred = y_pred/scaler.scale_[0]\n",
    "    return np.sum(np.array(input[-60:])/60)\n",
    "\n",
    "forecast = 50\n",
    "for i in range(forecast):\n",
    "    \n",
    "    y_pred = pred(QQQ_test)\n",
    "    \n",
    "    new_row ={'Close':y_pred}\n",
    "    QQQ_test.drop([' 9 RSI', '12 EMA', '26 EMA'], axis = 1, inplace = True)\n",
    "    QQQ_test = QQQ_test.append(new_row, ignore_index = True,)\n",
    "    QQQ_test[' 9 RSI'] = RSI(QQQ_test, 9)\n",
    "    QQQ_test['12 EMA'] = EMA(QQQ_test, 12)\n",
    "    QQQ_test['26 EMA'] = EMA(QQQ_test, 26)"
   ]
  },
  {
   "cell_type": "code",
   "execution_count": 155,
   "metadata": {},
   "outputs": [],
   "source": [
    "def create_xy_scale(training_data, samples):\n",
    "    scaler = MinMaxScaler()\n",
    "    training_data = scaler.fit_transform(training_data)\n",
    "    x = []\n",
    "    y = []\n",
    "    L = len(training_data)\n",
    "    samples = 100\n",
    "    forecast = 20\n",
    "\n",
    "    for i in range(samples, L):\n",
    "        x.append(training_data[i-samples:i])\n",
    "        y.append(training_data[i, 0])\n",
    "    x = np.array(x)\n",
    "    y = np.array(y)\n",
    "    s = scaler.scale_\n",
    "    \n",
    "    return([x,y,s])"
   ]
  },
  {
   "cell_type": "code",
   "execution_count": 170,
   "metadata": {},
   "outputs": [],
   "source": [
    "QQQ = pd.read_csv('dataset_QQQ_20140207_to_20181231.csv')\n",
    "QQQ.drop('Date', axis =1, inplace = True)\n",
    "QQQ_train = QQQ[0:1000].copy()\n",
    "x_train, y_train, scale = create_xy_scale(QQQ_train, 50)"
   ]
  },
  {
   "cell_type": "code",
   "execution_count": 161,
   "metadata": {},
   "outputs": [],
   "source": []
  },
  {
   "cell_type": "code",
   "execution_count": 169,
   "metadata": {},
   "outputs": [
    {
     "data": {
      "text/plain": [
       "array([ 3.19000244, 39.73351849,  0.        ,  0.        ])"
      ]
     },
     "execution_count": 169,
     "metadata": {},
     "output_type": "execute_result"
    }
   ],
   "source": []
  },
  {
   "cell_type": "code",
   "execution_count": 171,
   "metadata": {},
   "outputs": [
    {
     "data": {
      "text/html": [
       "<div>\n",
       "<style scoped>\n",
       "    .dataframe tbody tr th:only-of-type {\n",
       "        vertical-align: middle;\n",
       "    }\n",
       "\n",
       "    .dataframe tbody tr th {\n",
       "        vertical-align: top;\n",
       "    }\n",
       "\n",
       "    .dataframe thead th {\n",
       "        text-align: right;\n",
       "    }\n",
       "</style>\n",
       "<table border=\"1\" class=\"dataframe\">\n",
       "  <thead>\n",
       "    <tr style=\"text-align: right;\">\n",
       "      <th></th>\n",
       "      <th>Close</th>\n",
       "      <th>9 RSI</th>\n",
       "      <th>12 EMA</th>\n",
       "      <th>26 EMA</th>\n",
       "    </tr>\n",
       "  </thead>\n",
       "  <tbody>\n",
       "    <tr>\n",
       "      <td>0</td>\n",
       "      <td>87.300003</td>\n",
       "      <td>49.544463</td>\n",
       "      <td>85.871403</td>\n",
       "      <td>86.778077</td>\n",
       "    </tr>\n",
       "    <tr>\n",
       "      <td>1</td>\n",
       "      <td>87.800003</td>\n",
       "      <td>59.932334</td>\n",
       "      <td>86.091188</td>\n",
       "      <td>86.816738</td>\n",
       "    </tr>\n",
       "    <tr>\n",
       "      <td>2</td>\n",
       "      <td>88.800003</td>\n",
       "      <td>62.751712</td>\n",
       "      <td>86.354082</td>\n",
       "      <td>86.889573</td>\n",
       "    </tr>\n",
       "    <tr>\n",
       "      <td>3</td>\n",
       "      <td>88.970001</td>\n",
       "      <td>67.842895</td>\n",
       "      <td>86.730378</td>\n",
       "      <td>87.031086</td>\n",
       "    </tr>\n",
       "    <tr>\n",
       "      <td>4</td>\n",
       "      <td>89.629997</td>\n",
       "      <td>68.662075</td>\n",
       "      <td>87.074935</td>\n",
       "      <td>87.174709</td>\n",
       "    </tr>\n",
       "    <tr>\n",
       "      <td>...</td>\n",
       "      <td>...</td>\n",
       "      <td>...</td>\n",
       "      <td>...</td>\n",
       "      <td>...</td>\n",
       "    </tr>\n",
       "    <tr>\n",
       "      <td>995</td>\n",
       "      <td>168.119995</td>\n",
       "      <td>85.108297</td>\n",
       "      <td>163.315003</td>\n",
       "      <td>160.648335</td>\n",
       "    </tr>\n",
       "    <tr>\n",
       "      <td>996</td>\n",
       "      <td>169.509995</td>\n",
       "      <td>88.496397</td>\n",
       "      <td>164.054233</td>\n",
       "      <td>161.201792</td>\n",
       "    </tr>\n",
       "    <tr>\n",
       "      <td>997</td>\n",
       "      <td>168.410004</td>\n",
       "      <td>79.882202</td>\n",
       "      <td>164.893581</td>\n",
       "      <td>161.817214</td>\n",
       "    </tr>\n",
       "    <tr>\n",
       "      <td>998</td>\n",
       "      <td>168.350006</td>\n",
       "      <td>79.315346</td>\n",
       "      <td>165.434569</td>\n",
       "      <td>162.305569</td>\n",
       "    </tr>\n",
       "    <tr>\n",
       "      <td>999</td>\n",
       "      <td>170.929993</td>\n",
       "      <td>79.315346</td>\n",
       "      <td>165.883098</td>\n",
       "      <td>162.753305</td>\n",
       "    </tr>\n",
       "  </tbody>\n",
       "</table>\n",
       "<p>1000 rows × 4 columns</p>\n",
       "</div>"
      ],
      "text/plain": [
       "          Close      9 RSI      12 EMA      26 EMA\n",
       "0     87.300003  49.544463   85.871403   86.778077\n",
       "1     87.800003  59.932334   86.091188   86.816738\n",
       "2     88.800003  62.751712   86.354082   86.889573\n",
       "3     88.970001  67.842895   86.730378   87.031086\n",
       "4     89.629997  68.662075   87.074935   87.174709\n",
       "..          ...        ...         ...         ...\n",
       "995  168.119995  85.108297  163.315003  160.648335\n",
       "996  169.509995  88.496397  164.054233  161.201792\n",
       "997  168.410004  79.882202  164.893581  161.817214\n",
       "998  168.350006  79.315346  165.434569  162.305569\n",
       "999  170.929993  79.315346  165.883098  162.753305\n",
       "\n",
       "[1000 rows x 4 columns]"
      ]
     },
     "execution_count": 171,
     "metadata": {},
     "output_type": "execute_result"
    }
   ],
   "source": [
    "QQQ_train"
   ]
  },
  {
   "cell_type": "code",
   "execution_count": 179,
   "metadata": {},
   "outputs": [],
   "source": [
    "scaler = MinMaxScaler()\n",
    "QQQ_train_scale = scaler.fit_transform(QQQ_train)"
   ]
  },
  {
   "cell_type": "code",
   "execution_count": 181,
   "metadata": {},
   "outputs": [
    {
     "data": {
      "text/plain": [
       "array([0.01151808, 0.01273465, 0.01249817, 0.01316218])"
      ]
     },
     "execution_count": 181,
     "metadata": {},
     "output_type": "execute_result"
    }
   ],
   "source": [
    "scaler.scale_"
   ]
  },
  {
   "cell_type": "code",
   "execution_count": 186,
   "metadata": {},
   "outputs": [
    {
     "data": {
      "text/plain": [
       "array([3.69000244e+00, 5.12185751e+01, 2.38486358e-01, 4.41797133e-02])"
      ]
     },
     "execution_count": 186,
     "metadata": {},
     "output_type": "execute_result"
    }
   ],
   "source": [
    "QQQ_train_scale[1]/scaler.scale_[0]"
   ]
  },
  {
   "cell_type": "code",
   "execution_count": 177,
   "metadata": {},
   "outputs": [
    {
     "data": {
      "text/plain": [
       "(1000, 4)"
      ]
     },
     "execution_count": 177,
     "metadata": {},
     "output_type": "execute_result"
    }
   ],
   "source": [
    "np.array(QQQ_train).shape"
   ]
  },
  {
   "cell_type": "code",
   "execution_count": null,
   "metadata": {},
   "outputs": [],
   "source": []
  }
 ],
 "metadata": {
  "kernelspec": {
   "display_name": "Python 3",
   "language": "python",
   "name": "python3"
  },
  "language_info": {
   "codemirror_mode": {
    "name": "ipython",
    "version": 3
   },
   "file_extension": ".py",
   "mimetype": "text/x-python",
   "name": "python",
   "nbconvert_exporter": "python",
   "pygments_lexer": "ipython3",
   "version": "3.6.8"
  }
 },
 "nbformat": 4,
 "nbformat_minor": 4
}
