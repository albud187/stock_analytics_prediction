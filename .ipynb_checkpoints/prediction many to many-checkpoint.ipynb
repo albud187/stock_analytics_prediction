{
 "cells": [
  {
   "cell_type": "code",
   "execution_count": 2,
   "metadata": {},
   "outputs": [],
   "source": [
    "import datetime as dt\n",
    "from datetime import date\n",
    "import matplotlib.pyplot as plt\n",
    "from matplotlib import style\n",
    "import pandas as pd\n",
    "import pandas_datareader.data as web\n",
    "import numpy as np\n",
    "import time\n",
    "from sklearn.preprocessing import MinMaxScaler\n",
    "\n",
    "from tensorflow.keras import Sequential\n",
    "from tensorflow.keras.layers import Dense, LSTM, Dropout"
   ]
  },
  {
   "cell_type": "code",
   "execution_count": 3,
   "metadata": {},
   "outputs": [],
   "source": [
    "df = pd.read_csv('QQQ_2005-02-08_to_2020-05-29.csv')\n",
    "df_train = df[0:3000]\n",
    "df_test = df[3001:]\n",
    "training_data = df_train.drop('Date', axis =1)\n",
    "testing_data = df_test.drop('Date', axis =1)"
   ]
  },
  {
   "cell_type": "code",
   "execution_count": 69,
   "metadata": {},
   "outputs": [
    {
     "data": {
      "text/plain": [
       "array([[0.1263879 , 0.10782869, 0.64251135, ..., 0.43282758, 0.11032515,\n",
       "        0.10674028],\n",
       "       [0.11985059, 0.1413782 , 0.50188719, ..., 0.34499068, 0.11072876,\n",
       "        0.10665378],\n",
       "       [0.12026566, 0.1694192 , 0.54581722, ..., 0.42913242, 0.11002381,\n",
       "        0.1060622 ],\n",
       "       ...,\n",
       "       [0.98194461, 0.02078062, 0.46525086, ..., 0.44977415, 0.99716964,\n",
       "        0.99781339],\n",
       "       [0.98900075, 0.0222489 , 0.53552898, ..., 0.45081669, 0.99809092,\n",
       "        0.99866208],\n",
       "       [1.        , 0.02787468, 0.63944532, ..., 0.46555134, 1.        ,\n",
       "        1.        ]])"
      ]
     },
     "execution_count": 69,
     "metadata": {},
     "output_type": "execute_result"
    }
   ],
   "source": [
    "training_data[i][0]"
   ]
  },
  {
   "cell_type": "code",
   "execution_count": 4,
   "metadata": {},
   "outputs": [],
   "source": [
    "scaler = MinMaxScaler()\n",
    "training_data = scaler.fit_transform(training_data)"
   ]
  },
  {
   "cell_type": "code",
   "execution_count": 66,
   "metadata": {},
   "outputs": [
    {
     "data": {
      "text/plain": [
       "(3000, 7)"
      ]
     },
     "execution_count": 66,
     "metadata": {},
     "output_type": "execute_result"
    }
   ],
   "source": [
    "training_data.shape"
   ]
  },
  {
   "cell_type": "code",
   "execution_count": 5,
   "metadata": {},
   "outputs": [],
   "source": [
    "#create x train and y train\n",
    "L = len(training_data)\n",
    "x = []\n",
    "y = []\n",
    "Y = []\n",
    "for i in range(100, L-20):\n",
    "    x.append(training_data[i-100:i])\n",
    "    y.append(training_data[i+1:i+20,0])\n",
    "    \n",
    "x_train = np.array(x)    \n",
    "y_train = np.array(y)"
   ]
  },
  {
   "cell_type": "code",
   "execution_count": 88,
   "metadata": {},
   "outputs": [
    {
     "data": {
      "text/plain": [
       "(2880, 19)"
      ]
     },
     "execution_count": 88,
     "metadata": {},
     "output_type": "execute_result"
    }
   ],
   "source": [
    "y_train.shape"
   ]
  },
  {
   "cell_type": "code",
   "execution_count": 76,
   "metadata": {},
   "outputs": [],
   "source": [
    "from tensorflow.keras import Sequential\n",
    "from tensorflow.keras.layers import Dense, LSTM, Dropout"
   ]
  },
  {
   "cell_type": "code",
   "execution_count": 6,
   "metadata": {},
   "outputs": [
    {
     "name": "stdout",
     "output_type": "stream",
     "text": [
      "Train on 2880 samples\n",
      "Epoch 1/10\n",
      "2880/2880 [==============================] - 28s 10ms/sample - loss: 1.8543\n",
      "Epoch 2/10\n",
      "2880/2880 [==============================] - 23s 8ms/sample - loss: 0.0090\n",
      "Epoch 3/10\n",
      "2880/2880 [==============================] - 24s 8ms/sample - loss: 0.0064\n",
      "Epoch 4/10\n",
      "2880/2880 [==============================] - 24s 8ms/sample - loss: 0.0053\n",
      "Epoch 5/10\n",
      "2880/2880 [==============================] - 24s 8ms/sample - loss: 0.0045\n",
      "Epoch 6/10\n",
      "2880/2880 [==============================] - 24s 8ms/sample - loss: 0.0040\n",
      "Epoch 7/10\n",
      "2880/2880 [==============================] - 24s 8ms/sample - loss: 0.0039\n",
      "Epoch 8/10\n",
      "2880/2880 [==============================] - 24s 8ms/sample - loss: 0.0038\n",
      "Epoch 9/10\n",
      "2880/2880 [==============================] - 24s 8ms/sample - loss: 0.0032\n",
      "Epoch 10/10\n",
      "2880/2880 [==============================] - 24s 8ms/sample - loss: 0.0032\n"
     ]
    },
    {
     "data": {
      "text/plain": [
       "<tensorflow.python.keras.callbacks.History at 0x1f9ad5a1c88>"
      ]
     },
     "execution_count": 6,
     "metadata": {},
     "output_type": "execute_result"
    }
   ],
   "source": [
    "hyparam ={'loss':'mean_squared_error',\n",
    "         'opt':'Adam',\n",
    "         'epochs': 10,\n",
    "         'batch_size':32}\n",
    "\n",
    "regressor = Sequential()\n",
    "\n",
    "regressor.add(LSTM(units = 50, activation = 'relu', return_sequences = True, input_shape = (x_train.shape[1], 7)))\n",
    "regressor.add(Dropout(0.2))\n",
    "\n",
    "regressor.add(LSTM(units = 60, activation = 'relu', return_sequences = True))\n",
    "regressor.add(Dropout(0.2))\n",
    "\n",
    "regressor.add(LSTM(units = 80, activation = 'relu', return_sequences = True))\n",
    "regressor.add(Dropout(0.2))\n",
    "\n",
    "regressor.add(LSTM(units = 120, activation = 'relu'))\n",
    "regressor.add(Dropout(0.2))\n",
    "\n",
    "regressor.add(Dense(units=19))\n",
    "\n",
    "regressor.compile(optimizer = 'adam', loss = 'mean_squared_error')\n",
    "\n",
    "regressor.fit(x_train, y_train, epochs = 10, batch_size = 32)"
   ]
  },
  {
   "cell_type": "code",
   "execution_count": null,
   "metadata": {},
   "outputs": [],
   "source": [
    "#regressor.save('2020-06-21-1130_LSTM-100_to_19.model')"
   ]
  },
  {
   "cell_type": "code",
   "execution_count": 94,
   "metadata": {},
   "outputs": [],
   "source": [
    "inputs = scaler.transform(training_data)\n",
    "\n",
    "#create x train and y train\n",
    "L = len(training_data)\n",
    "x = []\n",
    "y = []\n",
    "Y = []\n",
    "for i in range(100, L-20):\n",
    "    x.append(inputs[i-100:i])\n",
    "    y.append(inputs[i+1:i+20,0])\n",
    "    \n",
    "x_train = np.array(x)    \n",
    "y_train = np.array(y)"
   ]
  },
  {
   "cell_type": "code",
   "execution_count": 42,
   "metadata": {},
   "outputs": [
    {
     "data": {
      "text/plain": [
       "array([0.11985059, 0.11798278, 0.11933176, 0.12669919, 0.13033101,\n",
       "       0.13219881, 0.13313272, 0.13707586, 0.13832105, 0.13666079,\n",
       "       0.1413303 , 0.14423575, 0.14433954, 0.14382068, 0.1422642 ,\n",
       "       0.14382068, 0.14693371, 0.14890526, 0.14548098])"
      ]
     },
     "execution_count": 42,
     "metadata": {},
     "output_type": "execute_result"
    }
   ],
   "source": [
    "y_train[0]"
   ]
  },
  {
   "cell_type": "code",
   "execution_count": null,
   "metadata": {},
   "outputs": [],
   "source": []
  },
  {
   "cell_type": "code",
   "execution_count": null,
   "metadata": {},
   "outputs": [],
   "source": []
  },
  {
   "cell_type": "code",
   "execution_count": null,
   "metadata": {},
   "outputs": [],
   "source": []
  },
  {
   "cell_type": "code",
   "execution_count": null,
   "metadata": {},
   "outputs": [],
   "source": [
    "x_test1 "
   ]
  },
  {
   "cell_type": "code",
   "execution_count": 24,
   "metadata": {},
   "outputs": [],
   "source": [
    "#df_test[0:100] # corresponds to 10 jan 2017 to 2 jun 2017\n",
    "#df_test[101:120] # corresponds to 6 jun 2017 to 30 jun 2017\n",
    "x_test1 = testing_data[0:100]\n",
    "y_test1 = testing_data[101:120]\n"
   ]
  },
  {
   "cell_type": "code",
   "execution_count": 25,
   "metadata": {},
   "outputs": [],
   "source": [
    "x_test1 = scaler.transform(x_test1)"
   ]
  },
  {
   "cell_type": "code",
   "execution_count": 29,
   "metadata": {},
   "outputs": [],
   "source": [
    "x_test1 = x_test1.reshape(1, x_test1.shape[0], x_test1.shape[1])"
   ]
  },
  {
   "cell_type": "code",
   "execution_count": null,
   "metadata": {},
   "outputs": [],
   "source": [
    "y"
   ]
  },
  {
   "cell_type": "code",
   "execution_count": 31,
   "metadata": {},
   "outputs": [],
   "source": [
    "y_pred = regressor.predict(x_test1)"
   ]
  },
  {
   "cell_type": "code",
   "execution_count": 33,
   "metadata": {},
   "outputs": [
    {
     "data": {
      "text/plain": [
       "array([1.03766731e-02, 1.64016972e-09, 1.00000000e-02, 2.42692429e-01,\n",
       "       4.73475343e+00, 1.07969595e-02, 1.09605602e-02])"
      ]
     },
     "execution_count": 33,
     "metadata": {},
     "output_type": "execute_result"
    }
   ],
   "source": [
    "scaler.scale_"
   ]
  },
  {
   "cell_type": "code",
   "execution_count": 34,
   "metadata": {},
   "outputs": [],
   "source": [
    "y_pred = y_pred/1.03766731e-02"
   ]
  },
  {
   "cell_type": "code",
   "execution_count": 35,
   "metadata": {},
   "outputs": [
    {
     "data": {
      "text/plain": [
       "array([[98.779854, 96.47737 , 98.45629 , 98.43773 , 97.80525 , 98.60133 ,\n",
       "        99.5043  , 97.69266 , 96.42998 , 98.156235, 98.35694 , 98.26295 ,\n",
       "        98.31748 , 99.634   , 98.2828  , 99.33879 , 99.09832 , 98.7276  ,\n",
       "        98.54928 ]], dtype=float32)"
      ]
     },
     "execution_count": 35,
     "metadata": {},
     "output_type": "execute_result"
    }
   ],
   "source": [
    "y_pred"
   ]
  },
  {
   "cell_type": "code",
   "execution_count": 38,
   "metadata": {},
   "outputs": [
    {
     "data": {
      "text/html": [
       "<div>\n",
       "<style scoped>\n",
       "    .dataframe tbody tr th:only-of-type {\n",
       "        vertical-align: middle;\n",
       "    }\n",
       "\n",
       "    .dataframe tbody tr th {\n",
       "        vertical-align: top;\n",
       "    }\n",
       "\n",
       "    .dataframe thead th {\n",
       "        text-align: right;\n",
       "    }\n",
       "</style>\n",
       "<table border=\"1\" class=\"dataframe\">\n",
       "  <thead>\n",
       "    <tr style=\"text-align: right;\">\n",
       "      <th></th>\n",
       "      <th>Close</th>\n",
       "      <th>Volume</th>\n",
       "      <th>RSI</th>\n",
       "      <th>pct change volume</th>\n",
       "      <th>pct change price</th>\n",
       "      <th>12 EMA</th>\n",
       "      <th>26 EMA</th>\n",
       "    </tr>\n",
       "  </thead>\n",
       "  <tbody>\n",
       "    <tr>\n",
       "      <td>3102</td>\n",
       "      <td>142.860001</td>\n",
       "      <td>22393000</td>\n",
       "      <td>87.051661</td>\n",
       "      <td>0.423812</td>\n",
       "      <td>-0.003974</td>\n",
       "      <td>141.004187</td>\n",
       "      <td>139.038766</td>\n",
       "    </tr>\n",
       "    <tr>\n",
       "      <td>3103</td>\n",
       "      <td>143.419998</td>\n",
       "      <td>18842400</td>\n",
       "      <td>86.841967</td>\n",
       "      <td>-0.158558</td>\n",
       "      <td>0.003920</td>\n",
       "      <td>141.289697</td>\n",
       "      <td>139.321820</td>\n",
       "    </tr>\n",
       "    <tr>\n",
       "      <td>3104</td>\n",
       "      <td>143.570007</td>\n",
       "      <td>25417400</td>\n",
       "      <td>83.333203</td>\n",
       "      <td>0.348947</td>\n",
       "      <td>0.001046</td>\n",
       "      <td>141.617435</td>\n",
       "      <td>139.625389</td>\n",
       "    </tr>\n",
       "    <tr>\n",
       "      <td>3105</td>\n",
       "      <td>139.979996</td>\n",
       "      <td>109783700</td>\n",
       "      <td>41.436469</td>\n",
       "      <td>3.319234</td>\n",
       "      <td>-0.025005</td>\n",
       "      <td>141.917831</td>\n",
       "      <td>139.917583</td>\n",
       "    </tr>\n",
       "    <tr>\n",
       "      <td>3106</td>\n",
       "      <td>139.229996</td>\n",
       "      <td>104454000</td>\n",
       "      <td>36.594729</td>\n",
       "      <td>-0.048547</td>\n",
       "      <td>-0.005358</td>\n",
       "      <td>141.619702</td>\n",
       "      <td>139.922206</td>\n",
       "    </tr>\n",
       "    <tr>\n",
       "      <td>3107</td>\n",
       "      <td>140.360001</td>\n",
       "      <td>51193000</td>\n",
       "      <td>44.804535</td>\n",
       "      <td>-0.509899</td>\n",
       "      <td>0.008116</td>\n",
       "      <td>141.252055</td>\n",
       "      <td>139.870931</td>\n",
       "    </tr>\n",
       "    <tr>\n",
       "      <td>3108</td>\n",
       "      <td>139.750000</td>\n",
       "      <td>60093800</td>\n",
       "      <td>38.401848</td>\n",
       "      <td>0.173868</td>\n",
       "      <td>-0.004346</td>\n",
       "      <td>141.114816</td>\n",
       "      <td>139.907159</td>\n",
       "    </tr>\n",
       "    <tr>\n",
       "      <td>3109</td>\n",
       "      <td>139.130005</td>\n",
       "      <td>55145200</td>\n",
       "      <td>22.971359</td>\n",
       "      <td>-0.082348</td>\n",
       "      <td>-0.004436</td>\n",
       "      <td>140.904844</td>\n",
       "      <td>139.895517</td>\n",
       "    </tr>\n",
       "    <tr>\n",
       "      <td>3110</td>\n",
       "      <td>138.149994</td>\n",
       "      <td>48087400</td>\n",
       "      <td>20.535793</td>\n",
       "      <td>-0.127986</td>\n",
       "      <td>-0.007044</td>\n",
       "      <td>140.631792</td>\n",
       "      <td>139.838813</td>\n",
       "    </tr>\n",
       "    <tr>\n",
       "      <td>3111</td>\n",
       "      <td>140.460007</td>\n",
       "      <td>39626500</td>\n",
       "      <td>38.785120</td>\n",
       "      <td>-0.175948</td>\n",
       "      <td>0.016721</td>\n",
       "      <td>140.249977</td>\n",
       "      <td>139.713715</td>\n",
       "    </tr>\n",
       "    <tr>\n",
       "      <td>3112</td>\n",
       "      <td>139.360001</td>\n",
       "      <td>40935100</td>\n",
       "      <td>31.939595</td>\n",
       "      <td>0.033023</td>\n",
       "      <td>-0.007831</td>\n",
       "      <td>140.282289</td>\n",
       "      <td>139.768996</td>\n",
       "    </tr>\n",
       "    <tr>\n",
       "      <td>3113</td>\n",
       "      <td>140.740005</td>\n",
       "      <td>35743400</td>\n",
       "      <td>38.652802</td>\n",
       "      <td>-0.126828</td>\n",
       "      <td>0.009902</td>\n",
       "      <td>140.140399</td>\n",
       "      <td>139.738700</td>\n",
       "    </tr>\n",
       "    <tr>\n",
       "      <td>3114</td>\n",
       "      <td>140.699997</td>\n",
       "      <td>24099100</td>\n",
       "      <td>54.035861</td>\n",
       "      <td>-0.325775</td>\n",
       "      <td>-0.000284</td>\n",
       "      <td>140.232646</td>\n",
       "      <td>139.812871</td>\n",
       "    </tr>\n",
       "    <tr>\n",
       "      <td>3115</td>\n",
       "      <td>141.240005</td>\n",
       "      <td>21654300</td>\n",
       "      <td>61.538448</td>\n",
       "      <td>-0.101448</td>\n",
       "      <td>0.003838</td>\n",
       "      <td>140.304546</td>\n",
       "      <td>139.878584</td>\n",
       "    </tr>\n",
       "    <tr>\n",
       "      <td>3116</td>\n",
       "      <td>140.580002</td>\n",
       "      <td>34411100</td>\n",
       "      <td>51.334951</td>\n",
       "      <td>0.589112</td>\n",
       "      <td>-0.004673</td>\n",
       "      <td>140.448463</td>\n",
       "      <td>139.979430</td>\n",
       "    </tr>\n",
       "    <tr>\n",
       "      <td>3117</td>\n",
       "      <td>138.029999</td>\n",
       "      <td>65957800</td>\n",
       "      <td>41.552101</td>\n",
       "      <td>0.916759</td>\n",
       "      <td>-0.018139</td>\n",
       "      <td>140.468700</td>\n",
       "      <td>140.023917</td>\n",
       "    </tr>\n",
       "    <tr>\n",
       "      <td>3118</td>\n",
       "      <td>140.020004</td>\n",
       "      <td>57427200</td>\n",
       "      <td>53.852790</td>\n",
       "      <td>-0.129334</td>\n",
       "      <td>0.014417</td>\n",
       "      <td>140.093515</td>\n",
       "      <td>139.876219</td>\n",
       "    </tr>\n",
       "    <tr>\n",
       "      <td>3119</td>\n",
       "      <td>137.589996</td>\n",
       "      <td>88769400</td>\n",
       "      <td>47.846173</td>\n",
       "      <td>0.545773</td>\n",
       "      <td>-0.017355</td>\n",
       "      <td>140.082206</td>\n",
       "      <td>139.886870</td>\n",
       "    </tr>\n",
       "    <tr>\n",
       "      <td>3120</td>\n",
       "      <td>137.639999</td>\n",
       "      <td>68898300</td>\n",
       "      <td>36.871537</td>\n",
       "      <td>-0.223851</td>\n",
       "      <td>0.000363</td>\n",
       "      <td>139.698789</td>\n",
       "      <td>139.716731</td>\n",
       "    </tr>\n",
       "  </tbody>\n",
       "</table>\n",
       "</div>"
      ],
      "text/plain": [
       "           Close     Volume        RSI  pct change volume  pct change price  \\\n",
       "3102  142.860001   22393000  87.051661           0.423812         -0.003974   \n",
       "3103  143.419998   18842400  86.841967          -0.158558          0.003920   \n",
       "3104  143.570007   25417400  83.333203           0.348947          0.001046   \n",
       "3105  139.979996  109783700  41.436469           3.319234         -0.025005   \n",
       "3106  139.229996  104454000  36.594729          -0.048547         -0.005358   \n",
       "3107  140.360001   51193000  44.804535          -0.509899          0.008116   \n",
       "3108  139.750000   60093800  38.401848           0.173868         -0.004346   \n",
       "3109  139.130005   55145200  22.971359          -0.082348         -0.004436   \n",
       "3110  138.149994   48087400  20.535793          -0.127986         -0.007044   \n",
       "3111  140.460007   39626500  38.785120          -0.175948          0.016721   \n",
       "3112  139.360001   40935100  31.939595           0.033023         -0.007831   \n",
       "3113  140.740005   35743400  38.652802          -0.126828          0.009902   \n",
       "3114  140.699997   24099100  54.035861          -0.325775         -0.000284   \n",
       "3115  141.240005   21654300  61.538448          -0.101448          0.003838   \n",
       "3116  140.580002   34411100  51.334951           0.589112         -0.004673   \n",
       "3117  138.029999   65957800  41.552101           0.916759         -0.018139   \n",
       "3118  140.020004   57427200  53.852790          -0.129334          0.014417   \n",
       "3119  137.589996   88769400  47.846173           0.545773         -0.017355   \n",
       "3120  137.639999   68898300  36.871537          -0.223851          0.000363   \n",
       "\n",
       "          12 EMA      26 EMA  \n",
       "3102  141.004187  139.038766  \n",
       "3103  141.289697  139.321820  \n",
       "3104  141.617435  139.625389  \n",
       "3105  141.917831  139.917583  \n",
       "3106  141.619702  139.922206  \n",
       "3107  141.252055  139.870931  \n",
       "3108  141.114816  139.907159  \n",
       "3109  140.904844  139.895517  \n",
       "3110  140.631792  139.838813  \n",
       "3111  140.249977  139.713715  \n",
       "3112  140.282289  139.768996  \n",
       "3113  140.140399  139.738700  \n",
       "3114  140.232646  139.812871  \n",
       "3115  140.304546  139.878584  \n",
       "3116  140.448463  139.979430  \n",
       "3117  140.468700  140.023917  \n",
       "3118  140.093515  139.876219  \n",
       "3119  140.082206  139.886870  \n",
       "3120  139.698789  139.716731  "
      ]
     },
     "execution_count": 38,
     "metadata": {},
     "output_type": "execute_result"
    }
   ],
   "source": [
    "testing_data[101:120]"
   ]
  },
  {
   "cell_type": "code",
   "execution_count": 39,
   "metadata": {},
   "outputs": [
    {
     "data": {
      "text/html": [
       "<div>\n",
       "<style scoped>\n",
       "    .dataframe tbody tr th:only-of-type {\n",
       "        vertical-align: middle;\n",
       "    }\n",
       "\n",
       "    .dataframe tbody tr th {\n",
       "        vertical-align: top;\n",
       "    }\n",
       "\n",
       "    .dataframe thead th {\n",
       "        text-align: right;\n",
       "    }\n",
       "</style>\n",
       "<table border=\"1\" class=\"dataframe\">\n",
       "  <thead>\n",
       "    <tr style=\"text-align: right;\">\n",
       "      <th></th>\n",
       "      <th>Close</th>\n",
       "      <th>Volume</th>\n",
       "      <th>RSI</th>\n",
       "      <th>pct change volume</th>\n",
       "      <th>pct change price</th>\n",
       "      <th>12 EMA</th>\n",
       "      <th>26 EMA</th>\n",
       "    </tr>\n",
       "  </thead>\n",
       "  <tbody>\n",
       "    <tr>\n",
       "      <td>3091</td>\n",
       "      <td>137.839996</td>\n",
       "      <td>36730100</td>\n",
       "      <td>50.000000</td>\n",
       "      <td>-0.111080</td>\n",
       "      <td>0.004226</td>\n",
       "      <td>137.508280</td>\n",
       "      <td>136.106220</td>\n",
       "    </tr>\n",
       "    <tr>\n",
       "      <td>3092</td>\n",
       "      <td>139.000000</td>\n",
       "      <td>19509700</td>\n",
       "      <td>54.249970</td>\n",
       "      <td>-0.468836</td>\n",
       "      <td>0.008416</td>\n",
       "      <td>137.559313</td>\n",
       "      <td>136.234648</td>\n",
       "    </tr>\n",
       "    <tr>\n",
       "      <td>3093</td>\n",
       "      <td>139.139999</td>\n",
       "      <td>19687500</td>\n",
       "      <td>54.590615</td>\n",
       "      <td>0.009113</td>\n",
       "      <td>0.001007</td>\n",
       "      <td>137.780957</td>\n",
       "      <td>136.439489</td>\n",
       "    </tr>\n",
       "    <tr>\n",
       "      <td>3094</td>\n",
       "      <td>139.779999</td>\n",
       "      <td>15891900</td>\n",
       "      <td>58.672927</td>\n",
       "      <td>-0.192792</td>\n",
       "      <td>0.004600</td>\n",
       "      <td>137.990041</td>\n",
       "      <td>136.639526</td>\n",
       "    </tr>\n",
       "    <tr>\n",
       "      <td>3095</td>\n",
       "      <td>140.970001</td>\n",
       "      <td>23928600</td>\n",
       "      <td>62.513213</td>\n",
       "      <td>0.505710</td>\n",
       "      <td>0.008513</td>\n",
       "      <td>138.265419</td>\n",
       "      <td>136.872154</td>\n",
       "    </tr>\n",
       "    <tr>\n",
       "      <td>3096</td>\n",
       "      <td>141.220001</td>\n",
       "      <td>13851600</td>\n",
       "      <td>61.745753</td>\n",
       "      <td>-0.421128</td>\n",
       "      <td>0.001773</td>\n",
       "      <td>138.681509</td>\n",
       "      <td>137.175698</td>\n",
       "    </tr>\n",
       "    <tr>\n",
       "      <td>3097</td>\n",
       "      <td>141.339996</td>\n",
       "      <td>20306400</td>\n",
       "      <td>59.750599</td>\n",
       "      <td>0.465997</td>\n",
       "      <td>0.000850</td>\n",
       "      <td>139.072046</td>\n",
       "      <td>137.475276</td>\n",
       "    </tr>\n",
       "    <tr>\n",
       "      <td>3098</td>\n",
       "      <td>141.289993</td>\n",
       "      <td>33229400</td>\n",
       "      <td>99.060092</td>\n",
       "      <td>0.636400</td>\n",
       "      <td>-0.000354</td>\n",
       "      <td>139.420961</td>\n",
       "      <td>137.761552</td>\n",
       "    </tr>\n",
       "    <tr>\n",
       "      <td>3099</td>\n",
       "      <td>141.839996</td>\n",
       "      <td>20120700</td>\n",
       "      <td>98.931561</td>\n",
       "      <td>-0.394491</td>\n",
       "      <td>0.003893</td>\n",
       "      <td>139.708505</td>\n",
       "      <td>138.022918</td>\n",
       "    </tr>\n",
       "    <tr>\n",
       "      <td>3100</td>\n",
       "      <td>143.460007</td>\n",
       "      <td>37222900</td>\n",
       "      <td>99.125823</td>\n",
       "      <td>0.849980</td>\n",
       "      <td>0.011421</td>\n",
       "      <td>140.036426</td>\n",
       "      <td>138.305664</td>\n",
       "    </tr>\n",
       "  </tbody>\n",
       "</table>\n",
       "</div>"
      ],
      "text/plain": [
       "           Close    Volume        RSI  pct change volume  pct change price  \\\n",
       "3091  137.839996  36730100  50.000000          -0.111080          0.004226   \n",
       "3092  139.000000  19509700  54.249970          -0.468836          0.008416   \n",
       "3093  139.139999  19687500  54.590615           0.009113          0.001007   \n",
       "3094  139.779999  15891900  58.672927          -0.192792          0.004600   \n",
       "3095  140.970001  23928600  62.513213           0.505710          0.008513   \n",
       "3096  141.220001  13851600  61.745753          -0.421128          0.001773   \n",
       "3097  141.339996  20306400  59.750599           0.465997          0.000850   \n",
       "3098  141.289993  33229400  99.060092           0.636400         -0.000354   \n",
       "3099  141.839996  20120700  98.931561          -0.394491          0.003893   \n",
       "3100  143.460007  37222900  99.125823           0.849980          0.011421   \n",
       "\n",
       "          12 EMA      26 EMA  \n",
       "3091  137.508280  136.106220  \n",
       "3092  137.559313  136.234648  \n",
       "3093  137.780957  136.439489  \n",
       "3094  137.990041  136.639526  \n",
       "3095  138.265419  136.872154  \n",
       "3096  138.681509  137.175698  \n",
       "3097  139.072046  137.475276  \n",
       "3098  139.420961  137.761552  \n",
       "3099  139.708505  138.022918  \n",
       "3100  140.036426  138.305664  "
      ]
     },
     "execution_count": 39,
     "metadata": {},
     "output_type": "execute_result"
    }
   ],
   "source": [
    "testing_data[90:100]"
   ]
  },
  {
   "cell_type": "code",
   "execution_count": null,
   "metadata": {},
   "outputs": [],
   "source": []
  }
 ],
 "metadata": {
  "kernelspec": {
   "display_name": "Python 3",
   "language": "python",
   "name": "python3"
  },
  "language_info": {
   "codemirror_mode": {
    "name": "ipython",
    "version": 3
   },
   "file_extension": ".py",
   "mimetype": "text/x-python",
   "name": "python",
   "nbconvert_exporter": "python",
   "pygments_lexer": "ipython3",
   "version": "3.6.8"
  }
 },
 "nbformat": 4,
 "nbformat_minor": 4
}
