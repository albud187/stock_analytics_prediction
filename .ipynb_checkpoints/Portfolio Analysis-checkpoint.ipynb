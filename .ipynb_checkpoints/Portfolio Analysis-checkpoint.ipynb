{
 "cells": [
  {
   "cell_type": "code",
   "execution_count": 3,
   "metadata": {},
   "outputs": [],
   "source": [
    "import datetime as dt\n",
    "from datetime import date\n",
    "import matplotlib.pyplot as plt\n",
    "from matplotlib import style\n",
    "import pandas as pd\n",
    "import pandas_datareader.data as web\n",
    "import numpy as np\n",
    "import time\n",
    "\n",
    "\n",
    "def ticker_df(ticker, start, end):\n",
    "    source = 'yahoo'\n",
    "    df = web.DataReader(ticker, source, start, end)\n",
    "    return df.drop(['High', 'Low', 'Open', 'Adj Close', 'Volume'], axis = 1)\n",
    "\n",
    "def stock_correlation(stock1, stock2):\n",
    "    correlation = stock1['Close'].pct_change().corr(stock2['Close'].pct_change())\n",
    "    return(correlation)\n",
    "\n",
    "def get_correlation(stocks, start, end):\n",
    "    \n",
    "    assets ={}\n",
    "    assets2 = {}\n",
    "\n",
    "    for stock in stocks:\n",
    "        assets[stock] = ticker_df(stock, start, end)\n",
    "\n",
    "    for stock in stocks:\n",
    "        assets2[stock] = list(assets[stock]['Close'])\n",
    "\n",
    "    df = pd.DataFrame(data = assets2, columns = assets.keys())\n",
    "    corr_matrix = df.corr()\n",
    "\n",
    "    for stock1 in stocks:\n",
    "        for stock2 in stocks:\n",
    "            corr_matrix[stock1][stock2] = stock_correlation(assets[stock1], assets[stock2])\n",
    "    \n",
    "    return(corr_matrix)\n",
    "\n",
    "#takes holdings {'ticker':allocation}, returns simulation of portfolio\n",
    "def sim_port(holdings, start, end):\n",
    "    portfolio = ticker_df('SPY', start, end).drop('Close', axis =1)\n",
    "\n",
    "    for stock in holdings.keys():\n",
    "        portfolio[stock + ' close'] = ticker_df(stock, start, end)\n",
    "        portfolio[stock + ' pct change'] = portfolio[stock + ' close'].pct_change()\n",
    "\n",
    "    for stock in holdings.keys():\n",
    "\n",
    "        portfolio[stock + ' sim close'] = [0.0]*len(portfolio)\n",
    "        portfolio[stock + ' sim close'][0] = holdings[stock]\n",
    "\n",
    "        for i in range(1, len(portfolio)):\n",
    "            a = portfolio[stock + ' sim close'][i-1]\n",
    "            b = 1 + portfolio[stock + ' pct change'][i]\n",
    "            portfolio[stock + ' sim close'][i] =  a*b\n",
    "\n",
    "    portfolio['Close'] = [0.0]*len(portfolio)\n",
    "\n",
    "    for stock in holdings.keys():\n",
    "        for i in range(len(portfolio)):\n",
    "            portfolio['Close'][i] += portfolio[stock + ' sim close'][i]\n",
    "\n",
    "    return(portfolio)\n",
    "\n",
    "#takes list of stocks (strings), returns dictionary of time series\n",
    "def asset_dict(stocks, start, end):\n",
    "    assets = {}\n",
    "    for stock in stocks:\n",
    "        assets[stock] = ticker_df(stock,start,end)['Close']\n",
    "    return(assets)\n",
    "\n",
    "#takes list of stocks, returns dictionary of time series\n",
    "def asset_timeseries(stocks, start, end):\n",
    "    assets = {}\n",
    "    for stock in stocks:\n",
    "        assets[stock] = list(ticker_df(stock, start, end)['Close'])\n",
    "    return(assets)\n",
    "\n",
    "\n",
    "def series_corr(ser1, ser2):\n",
    "    correlation = ser1.pct_change().corr(ser2.pct_change())\n",
    "    return(correlation)\n",
    "\n",
    "def create_corr_matrix(stock_dict):\n",
    "    data = pd.DataFrame(data = stock_dict, columns = stock_dict.keys())\n",
    "    corr_matrix = data.corr()\n",
    "\n",
    "    for stock1 in stock_dict.keys():\n",
    "        for stock2 in stock_dict.keys():\n",
    "            corr_matrix[stock1][stock2] = series_corr(stock_dict[stock1], stock_dict[stock2])\n",
    "    return(corr_matrix)\n"
   ]
  },
  {
   "cell_type": "code",
   "execution_count": 57,
   "metadata": {},
   "outputs": [],
   "source": [
    "start = dt.datetime(2015,1,1)\n",
    "end = dt.datetime(2020,6,30)\n",
    "\n",
    "IWM = ticker_df('IWM', start, end)\n",
    "SPY = ticker_df('SPY', start, end)\n",
    "QQQ = ticker_df('QQQ', start, end)\n",
    "\n",
    "\n",
    "holdings= {'XSU.TO':30.0, 'XQQ.TO':25.0, 'VEF.TO':30.0, 'GDX': 10.0, 'ARKK':5.0,}\n",
    "stocks = ['SPY', 'IWM', 'QQQ', 'GDX', 'GDXJ', 'GLD', 'SLV', 'USO', 'XLK', 'XLE', 'XRT', 'XRT', 'XLU', 'XLF','XLI','XLV', 'XAR', 'ARKK', 'TLT', 'LQD']\n",
    "assets = asset_dict(stocks, start, end)\n",
    "\n",
    "portfolio = sim_port(holdings, start, end)\n",
    "assets['portfolio'] = portfolio['Close']\n",
    "corr_matrix = create_corr_matrix(assets)"
   ]
  },
  {
   "cell_type": "code",
   "execution_count": 14,
   "metadata": {},
   "outputs": [],
   "source": [
    "corr_matrix.to_csv('corr_matrix.csv')\n"
   ]
  },
  {
   "cell_type": "code",
   "execution_count": null,
   "metadata": {},
   "outputs": [],
   "source": [
    "#sharpe ratio    "
   ]
  },
  {
   "cell_type": "code",
   "execution_count": 60,
   "metadata": {},
   "outputs": [],
   "source": [
    "# fama french data https://mba.tuck.dartmouth.edu/pages/faculty/ken.french/data_library.html\n",
    "# tutorial on excel https://www.youtube.com/watch?v=b2bO23z7cwg\n",
    "# tutorial (text) https://www.codingfinance.com/post/2019-07-01-analyze-ff-factor-python/\n",
    "# tutorial (text) https://randlow.github.io/posts/finance-economics/asset-pricing-regression/"
   ]
  },
  {
   "cell_type": "code",
   "execution_count": null,
   "metadata": {},
   "outputs": [],
   "source": []
  },
  {
   "cell_type": "code",
   "execution_count": 55,
   "metadata": {},
   "outputs": [],
   "source": [
    "#sharpe ratio = expected return daily - riskfreerate / stddev\n",
    "def sharpe_ratio(asset, riskfree_rate):\n",
    "    Rp = asset['Close'].pct_change().mean()\n",
    "    Rff = riskfree_rate/252 \n",
    "    sigma = asset['Close'].pct_change().std()\n",
    "    ratio = (Rp-Rff)/sigma\n",
    "    return(ratio)\n"
   ]
  },
  {
   "cell_type": "code",
   "execution_count": 62,
   "metadata": {},
   "outputs": [
    {
     "data": {
      "text/plain": [
       "0.028546557860568113"
      ]
     },
     "execution_count": 62,
     "metadata": {},
     "output_type": "execute_result"
    }
   ],
   "source": [
    "sharpe_ratio(portfolio, 0.02)"
   ]
  },
  {
   "cell_type": "code",
   "execution_count": 56,
   "metadata": {},
   "outputs": [
    {
     "ename": "NameError",
     "evalue": "name 'portfolio' is not defined",
     "output_type": "error",
     "traceback": [
      "\u001b[1;31m---------------------------------------------------------------------------\u001b[0m",
      "\u001b[1;31mNameError\u001b[0m                                 Traceback (most recent call last)",
      "\u001b[1;32m<ipython-input-56-f5e55475821b>\u001b[0m in \u001b[0;36m<module>\u001b[1;34m\u001b[0m\n\u001b[1;32m----> 1\u001b[1;33m \u001b[0mportfolio\u001b[0m\u001b[1;33m\u001b[0m\u001b[1;33m\u001b[0m\u001b[0m\n\u001b[0m",
      "\u001b[1;31mNameError\u001b[0m: name 'portfolio' is not defined"
     ]
    }
   ],
   "source": []
  },
  {
   "cell_type": "code",
   "execution_count": 17,
   "metadata": {},
   "outputs": [
    {
     "data": {
      "text/plain": [
       "0.05894232694736953"
      ]
     },
     "execution_count": 17,
     "metadata": {},
     "output_type": "execute_result"
    }
   ],
   "source": [
    "0.00023389812280702195*252"
   ]
  },
  {
   "cell_type": "code",
   "execution_count": 41,
   "metadata": {},
   "outputs": [
    {
     "data": {
      "text/plain": [
       "177.15329634104523"
      ]
     },
     "execution_count": 41,
     "metadata": {},
     "output_type": "execute_result"
    }
   ],
   "source": [
    "IWM['Close'][0]*(1+daily_rate)**len(IWM)"
   ]
  },
  {
   "cell_type": "code",
   "execution_count": 31,
   "metadata": {},
   "outputs": [
    {
     "data": {
      "text/plain": [
       "161.70434466256222"
      ]
     },
     "execution_count": 31,
     "metadata": {},
     "output_type": "execute_result"
    }
   ],
   "source": [
    "118.93*(1+0.07983541665384518)**4"
   ]
  },
  {
   "cell_type": "code",
   "execution_count": 34,
   "metadata": {},
   "outputs": [
    {
     "data": {
      "text/plain": [
       "251.6"
      ]
     },
     "execution_count": 34,
     "metadata": {},
     "output_type": "execute_result"
    }
   ],
   "source": [
    "len(IWM['Close'])/5"
   ]
  },
  {
   "cell_type": "code",
   "execution_count": 42,
   "metadata": {},
   "outputs": [
    {
     "data": {
      "text/html": [
       "<div>\n",
       "<style scoped>\n",
       "    .dataframe tbody tr th:only-of-type {\n",
       "        vertical-align: middle;\n",
       "    }\n",
       "\n",
       "    .dataframe tbody tr th {\n",
       "        vertical-align: top;\n",
       "    }\n",
       "\n",
       "    .dataframe thead th {\n",
       "        text-align: right;\n",
       "    }\n",
       "</style>\n",
       "<table border=\"1\" class=\"dataframe\">\n",
       "  <thead>\n",
       "    <tr style=\"text-align: right;\">\n",
       "      <th></th>\n",
       "      <th>Close</th>\n",
       "    </tr>\n",
       "    <tr>\n",
       "      <th>Date</th>\n",
       "      <th></th>\n",
       "    </tr>\n",
       "  </thead>\n",
       "  <tbody>\n",
       "    <tr>\n",
       "      <td>2015-01-02</td>\n",
       "      <td>118.930000</td>\n",
       "    </tr>\n",
       "    <tr>\n",
       "      <td>2015-01-05</td>\n",
       "      <td>117.339996</td>\n",
       "    </tr>\n",
       "    <tr>\n",
       "      <td>2015-01-06</td>\n",
       "      <td>115.309998</td>\n",
       "    </tr>\n",
       "    <tr>\n",
       "      <td>2015-01-07</td>\n",
       "      <td>116.730003</td>\n",
       "    </tr>\n",
       "    <tr>\n",
       "      <td>2015-01-08</td>\n",
       "      <td>118.709999</td>\n",
       "    </tr>\n",
       "    <tr>\n",
       "      <td>...</td>\n",
       "      <td>...</td>\n",
       "    </tr>\n",
       "    <tr>\n",
       "      <td>2019-12-24</td>\n",
       "      <td>166.679993</td>\n",
       "    </tr>\n",
       "    <tr>\n",
       "      <td>2019-12-26</td>\n",
       "      <td>166.679993</td>\n",
       "    </tr>\n",
       "    <tr>\n",
       "      <td>2019-12-27</td>\n",
       "      <td>165.860001</td>\n",
       "    </tr>\n",
       "    <tr>\n",
       "      <td>2019-12-30</td>\n",
       "      <td>165.440002</td>\n",
       "    </tr>\n",
       "    <tr>\n",
       "      <td>2019-12-31</td>\n",
       "      <td>165.669998</td>\n",
       "    </tr>\n",
       "  </tbody>\n",
       "</table>\n",
       "<p>1258 rows × 1 columns</p>\n",
       "</div>"
      ],
      "text/plain": [
       "                 Close\n",
       "Date                  \n",
       "2015-01-02  118.930000\n",
       "2015-01-05  117.339996\n",
       "2015-01-06  115.309998\n",
       "2015-01-07  116.730003\n",
       "2015-01-08  118.709999\n",
       "...                ...\n",
       "2019-12-24  166.679993\n",
       "2019-12-26  166.679993\n",
       "2019-12-27  165.860001\n",
       "2019-12-30  165.440002\n",
       "2019-12-31  165.669998\n",
       "\n",
       "[1258 rows x 1 columns]"
      ]
     },
     "execution_count": 42,
     "metadata": {},
     "output_type": "execute_result"
    }
   ],
   "source": [
    "IWM"
   ]
  },
  {
   "cell_type": "code",
   "execution_count": null,
   "metadata": {},
   "outputs": [],
   "source": []
  }
 ],
 "metadata": {
  "kernelspec": {
   "display_name": "Python 3",
   "language": "python",
   "name": "python3"
  },
  "language_info": {
   "codemirror_mode": {
    "name": "ipython",
    "version": 3
   },
   "file_extension": ".py",
   "mimetype": "text/x-python",
   "name": "python",
   "nbconvert_exporter": "python",
   "pygments_lexer": "ipython3",
   "version": "3.6.8"
  }
 },
 "nbformat": 4,
 "nbformat_minor": 4
}
