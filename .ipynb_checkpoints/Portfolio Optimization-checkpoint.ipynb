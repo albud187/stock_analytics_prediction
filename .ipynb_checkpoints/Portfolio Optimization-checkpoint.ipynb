{
 "cells": [
  {
   "cell_type": "code",
   "execution_count": 2,
   "metadata": {},
   "outputs": [],
   "source": [
    "#credits to https://www.pythonforfinance.net/2019/07/02/investment-portfolio-optimisation-with-python-revisited/\n",
    "\n",
    "import pandas as pd  \n",
    "import numpy as np\n",
    "import pandas_datareader.data as web\n",
    "import datetime as dt\n",
    "from datetime import date, datetime, timedelta\n",
    "\n",
    "import scipy.optimize as sco\n",
    "from scipy import stats\n",
    "import matplotlib.pyplot as plt\n",
    "%matplotlib inline"
   ]
  },
  {
   "cell_type": "code",
   "execution_count": 292,
   "metadata": {},
   "outputs": [],
   "source": [
    "tickers = ['TLT','SPY','GLD','LQD']\n",
    "start = date.today() - timedelta(days = 3650*1.5)\n",
    "end = date.today()\n",
    "df = pd.DataFrame([web.DataReader(ticker, 'yahoo', start, end)['Adj Close'] for ticker in tickers]).T\n",
    "df.columns = tickers"
   ]
  },
  {
   "cell_type": "code",
   "execution_count": null,
   "metadata": {},
   "outputs": [],
   "source": []
  },
  {
   "cell_type": "code",
   "execution_count": 238,
   "metadata": {},
   "outputs": [
    {
     "data": {
      "text/html": [
       "<div>\n",
       "<style scoped>\n",
       "    .dataframe tbody tr th:only-of-type {\n",
       "        vertical-align: middle;\n",
       "    }\n",
       "\n",
       "    .dataframe tbody tr th {\n",
       "        vertical-align: top;\n",
       "    }\n",
       "\n",
       "    .dataframe thead th {\n",
       "        text-align: right;\n",
       "    }\n",
       "</style>\n",
       "<table border=\"1\" class=\"dataframe\">\n",
       "  <thead>\n",
       "    <tr style=\"text-align: right;\">\n",
       "      <th></th>\n",
       "      <th>TLT</th>\n",
       "      <th>SPY</th>\n",
       "      <th>GLD</th>\n",
       "      <th>LQD</th>\n",
       "    </tr>\n",
       "    <tr>\n",
       "      <th>Date</th>\n",
       "      <th></th>\n",
       "      <th></th>\n",
       "      <th></th>\n",
       "      <th></th>\n",
       "    </tr>\n",
       "  </thead>\n",
       "  <tbody>\n",
       "    <tr>\n",
       "      <td>2005-07-22</td>\n",
       "      <td>57.111092</td>\n",
       "      <td>91.241989</td>\n",
       "      <td>42.450001</td>\n",
       "      <td>59.299004</td>\n",
       "    </tr>\n",
       "    <tr>\n",
       "      <td>2005-07-25</td>\n",
       "      <td>56.903557</td>\n",
       "      <td>90.983475</td>\n",
       "      <td>42.509998</td>\n",
       "      <td>59.293636</td>\n",
       "    </tr>\n",
       "    <tr>\n",
       "      <td>2005-07-26</td>\n",
       "      <td>56.995152</td>\n",
       "      <td>91.094292</td>\n",
       "      <td>42.250000</td>\n",
       "      <td>59.304337</td>\n",
       "    </tr>\n",
       "    <tr>\n",
       "      <td>2005-07-27</td>\n",
       "      <td>56.903557</td>\n",
       "      <td>91.426628</td>\n",
       "      <td>42.439999</td>\n",
       "      <td>59.229378</td>\n",
       "    </tr>\n",
       "    <tr>\n",
       "      <td>2005-07-28</td>\n",
       "      <td>57.410233</td>\n",
       "      <td>92.002747</td>\n",
       "      <td>42.750000</td>\n",
       "      <td>59.454315</td>\n",
       "    </tr>\n",
       "    <tr>\n",
       "      <td>...</td>\n",
       "      <td>...</td>\n",
       "      <td>...</td>\n",
       "      <td>...</td>\n",
       "      <td>...</td>\n",
       "    </tr>\n",
       "    <tr>\n",
       "      <td>2020-07-13</td>\n",
       "      <td>166.880005</td>\n",
       "      <td>314.839996</td>\n",
       "      <td>169.399994</td>\n",
       "      <td>135.509995</td>\n",
       "    </tr>\n",
       "    <tr>\n",
       "      <td>2020-07-14</td>\n",
       "      <td>167.119995</td>\n",
       "      <td>318.920013</td>\n",
       "      <td>170.190002</td>\n",
       "      <td>136.300003</td>\n",
       "    </tr>\n",
       "    <tr>\n",
       "      <td>2020-07-15</td>\n",
       "      <td>166.339996</td>\n",
       "      <td>321.850006</td>\n",
       "      <td>170.339996</td>\n",
       "      <td>136.570007</td>\n",
       "    </tr>\n",
       "    <tr>\n",
       "      <td>2020-07-16</td>\n",
       "      <td>167.130005</td>\n",
       "      <td>320.790009</td>\n",
       "      <td>168.729996</td>\n",
       "      <td>136.949997</td>\n",
       "    </tr>\n",
       "    <tr>\n",
       "      <td>2020-07-17</td>\n",
       "      <td>166.779999</td>\n",
       "      <td>321.720001</td>\n",
       "      <td>170.119995</td>\n",
       "      <td>137.320007</td>\n",
       "    </tr>\n",
       "  </tbody>\n",
       "</table>\n",
       "<p>3773 rows × 4 columns</p>\n",
       "</div>"
      ],
      "text/plain": [
       "                   TLT         SPY         GLD         LQD\n",
       "Date                                                      \n",
       "2005-07-22   57.111092   91.241989   42.450001   59.299004\n",
       "2005-07-25   56.903557   90.983475   42.509998   59.293636\n",
       "2005-07-26   56.995152   91.094292   42.250000   59.304337\n",
       "2005-07-27   56.903557   91.426628   42.439999   59.229378\n",
       "2005-07-28   57.410233   92.002747   42.750000   59.454315\n",
       "...                ...         ...         ...         ...\n",
       "2020-07-13  166.880005  314.839996  169.399994  135.509995\n",
       "2020-07-14  167.119995  318.920013  170.190002  136.300003\n",
       "2020-07-15  166.339996  321.850006  170.339996  136.570007\n",
       "2020-07-16  167.130005  320.790009  168.729996  136.949997\n",
       "2020-07-17  166.779999  321.720001  170.119995  137.320007\n",
       "\n",
       "[3773 rows x 4 columns]"
      ]
     },
     "execution_count": 238,
     "metadata": {},
     "output_type": "execute_result"
    }
   ],
   "source": [
    "tickers = ['TLT','SPY','GLD','LQD']\n",
    "def create_tickers(tickers):"
   ]
  },
  {
   "cell_type": "code",
   "execution_count": 288,
   "metadata": {},
   "outputs": [],
   "source": [
    "tickers = ['TLT','SPY','GLD','LQD']\n",
    "start = date.today() - timedelta(days = 3650*1.5)\n",
    "end = date.today()\n",
    "\n",
    "def ticker_data(tickers, start, end):\n",
    "    days = (end-start).days\n",
    "\n",
    "    index = pd.date_range(start, periods = days, freq='D')\n",
    "    df = pd.DataFrame(index = index,columns = tickers)\n",
    "\n",
    "    for ticker in tickers:\n",
    "        df[ticker] = web.DataReader(ticker, 'yahoo', start, end)['Adj Close']\n",
    "    df = df.dropna()\n",
    "    return(df)"
   ]
  },
  {
   "cell_type": "code",
   "execution_count": 296,
   "metadata": {},
   "outputs": [],
   "source": [
    "df = ticker_data(tickers, start, end)"
   ]
  },
  {
   "cell_type": "code",
   "execution_count": 297,
   "metadata": {},
   "outputs": [
    {
     "data": {
      "text/html": [
       "<div>\n",
       "<style scoped>\n",
       "    .dataframe tbody tr th:only-of-type {\n",
       "        vertical-align: middle;\n",
       "    }\n",
       "\n",
       "    .dataframe tbody tr th {\n",
       "        vertical-align: top;\n",
       "    }\n",
       "\n",
       "    .dataframe thead th {\n",
       "        text-align: right;\n",
       "    }\n",
       "</style>\n",
       "<table border=\"1\" class=\"dataframe\">\n",
       "  <thead>\n",
       "    <tr style=\"text-align: right;\">\n",
       "      <th></th>\n",
       "      <th>TLT</th>\n",
       "      <th>SPY</th>\n",
       "      <th>GLD</th>\n",
       "      <th>LQD</th>\n",
       "    </tr>\n",
       "  </thead>\n",
       "  <tbody>\n",
       "    <tr>\n",
       "      <td>TLT</td>\n",
       "      <td>0.000082</td>\n",
       "      <td>-0.000050</td>\n",
       "      <td>0.000015</td>\n",
       "      <td>0.000021</td>\n",
       "    </tr>\n",
       "    <tr>\n",
       "      <td>SPY</td>\n",
       "      <td>-0.000050</td>\n",
       "      <td>0.000158</td>\n",
       "      <td>0.000005</td>\n",
       "      <td>0.000010</td>\n",
       "    </tr>\n",
       "    <tr>\n",
       "      <td>GLD</td>\n",
       "      <td>0.000015</td>\n",
       "      <td>0.000005</td>\n",
       "      <td>0.000135</td>\n",
       "      <td>0.000007</td>\n",
       "    </tr>\n",
       "    <tr>\n",
       "      <td>LQD</td>\n",
       "      <td>0.000021</td>\n",
       "      <td>0.000010</td>\n",
       "      <td>0.000007</td>\n",
       "      <td>0.000030</td>\n",
       "    </tr>\n",
       "  </tbody>\n",
       "</table>\n",
       "</div>"
      ],
      "text/plain": [
       "          TLT       SPY       GLD       LQD\n",
       "TLT  0.000082 -0.000050  0.000015  0.000021\n",
       "SPY -0.000050  0.000158  0.000005  0.000010\n",
       "GLD  0.000015  0.000005  0.000135  0.000007\n",
       "LQD  0.000021  0.000010  0.000007  0.000030"
      ]
     },
     "execution_count": 297,
     "metadata": {},
     "output_type": "execute_result"
    }
   ],
   "source": [
    "df.pct_change().cov()"
   ]
  },
  {
   "cell_type": "code",
   "execution_count": 298,
   "metadata": {},
   "outputs": [],
   "source": [
    "mean_returns = df.pct_change().mean()\n",
    "cov = df.pct_change().cov()"
   ]
  },
  {
   "cell_type": "code",
   "execution_count": 308,
   "metadata": {},
   "outputs": [
    {
     "data": {
      "text/plain": [
       "array([0.26682856, 0.0068713 , 0.38210627, 0.34419387])"
      ]
     },
     "execution_count": 308,
     "metadata": {},
     "output_type": "execute_result"
    }
   ],
   "source": [
    "weights = np.random.random(len(mean_returns))\n",
    "weights /= np.sum(weights)\n",
    "weights"
   ]
  },
  {
   "cell_type": "code",
   "execution_count": 311,
   "metadata": {},
   "outputs": [],
   "source": [
    "allocation = [0.22, 0.28, 0.45, 0.05]\n",
    "weights = np.array(allocation)"
   ]
  },
  {
   "cell_type": "code",
   "execution_count": 312,
   "metadata": {},
   "outputs": [
    {
     "data": {
      "text/plain": [
       "array([0.22, 0.28, 0.45, 0.05])"
      ]
     },
     "execution_count": 312,
     "metadata": {},
     "output_type": "execute_result"
    }
   ],
   "source": [
    "weights"
   ]
  },
  {
   "cell_type": "code",
   "execution_count": 313,
   "metadata": {},
   "outputs": [
    {
     "data": {
      "text/plain": [
       "(0.09961189764183374, 0.10405193401410955, 0.9573286511745785)"
      ]
     },
     "execution_count": 313,
     "metadata": {},
     "output_type": "execute_result"
    }
   ],
   "source": [
    "rf = 0\n",
    "calc_portfolio_perf(weights, mean_returns, cov, rf)"
   ]
  },
  {
   "cell_type": "code",
   "execution_count": 329,
   "metadata": {},
   "outputs": [],
   "source": [
    "portfolio = {'TLT':0.402064, 'SPY':0.293876, 'GLD':0.157595, 'LQD':0.146465}\n",
    "start = date.today() - timedelta(days = 3650*1.5)\n",
    "end = date.today()\n",
    "rf = 0.0\n",
    "leverage = 1.5\n",
    "margin_int = 0.02\n",
    "\n",
    "def portfolio_stats(portfolio, start, end, rf, leverage, margin_int):\n",
    "    weights = np.array(list(portfolio.values()))\n",
    "    tickers = list(portfolio.keys())\n",
    "\n",
    "    data = ticker_data(tickers, start, end)\n",
    "    mean_returns = data.pct_change().mean()\n",
    "    cov = data.pct_change().cov()\n",
    "\n",
    "    return(calc_portfolio_perf(weights, mean_returns, cov, rf))\n",
    "    "
   ]
  },
  {
   "cell_type": "code",
   "execution_count": 331,
   "metadata": {},
   "outputs": [],
   "source": [
    "\n",
    "\n",
    "def calc_portfolio_perf(weights, mean_returns, cov, rf, leverage, margin_int):\n",
    "    portfolio_return = np.sum(mean_returns * weights) * 252\n",
    "    portfolio_std = np.sqrt(np.dot(weights.T, np.dot(cov, weights))) * np.sqrt(252)\n",
    "    sharpe_ratio = (portfolio_return - rf) / portfolio_std\n",
    "    \n",
    "    levered_return = portfolio_return*leverage - (leverage - 1)*margin_int\n",
    "    levered_std = portfolio_std * leverage\n",
    "    levered_sharpe = (levered_return - rf) / levered_std\n",
    "    \n",
    "    portfolio_stats = {'ret': portfolio_return, 'stdev':portfolio_std, 'sharpe': sharpe_ratio,\n",
    "                      'levered_ret': levered_return, 'levered_std':levered_std, 'levered_sharpe': levered_sharpe}\n",
    "    \n",
    "    return(portfolio_stats)"
   ]
  },
  {
   "cell_type": "code",
   "execution_count": null,
   "metadata": {},
   "outputs": [],
   "source": [
    "\n",
    "    "
   ]
  },
  {
   "cell_type": "code",
   "execution_count": 332,
   "metadata": {},
   "outputs": [
    {
     "data": {
      "text/plain": [
       "{'ret': 0.08964490680532017,\n",
       " 'stdev': 0.07975261365803406,\n",
       " 'sharpe': 1.1240372282932647,\n",
       " 'levered_ret': 0.12446736020798026,\n",
       " 'levered_std': 0.1196289204870511,\n",
       " 'levered_sharpe': 1.0404454015068445}"
      ]
     },
     "execution_count": 332,
     "metadata": {},
     "output_type": "execute_result"
    }
   ],
   "source": [
    "portfolio = {'TLT':0.402064, 'SPY':0.293876, 'GLD':0.157595, 'LQD':0.146465}\n",
    "start = date.today() - timedelta(days = 3650*1.5)\n",
    "end = date.today()\n",
    "rf = 0.0\n",
    "leverage = 1.5\n",
    "margin_int = 0.02\n",
    "\n",
    "weights = np.array(list(portfolio.values()))\n",
    "data = ticker_data(tickers, start, end)\n",
    "mean_returns = data.pct_change().mean()\n",
    "cov = data.pct_change().cov()\n",
    "\n",
    "calc_portfolio_perf(weights, mean_returns, cov, rf, leverage, margin_int)"
   ]
  },
  {
   "cell_type": "code",
   "execution_count": null,
   "metadata": {},
   "outputs": [],
   "source": [
    "mean_returns = df.pct_change().mean()\n",
    "cov = df.pct_change().cov()\n",
    "num_portfolios = 10000\n",
    "rf = 0.0\n",
    "results_frame = simulate_random_portfolios(num_portfolios, mean_returns, cov, rf)\n",
    "\n",
    "results_frame[results_frame['sharpe']==results_frame['sharpe'].max()]\n",
    "\n",
    "\n",
    "def calc_portfolio_perf(weights, mean_returns, cov, rf):\n",
    "    portfolio_return = np.sum(mean_returns * weights) * 252\n",
    "    portfolio_std = np.sqrt(np.dot(weights.T, np.dot(cov, weights))) * np.sqrt(252)\n",
    "    sharpe_ratio = (portfolio_return - rf) / portfolio_std\n",
    "    return portfolio_return, portfolio_std, sharpe_ratio\n",
    "\n",
    "def simulate_random_portfolios(num_portfolios, mean_returns, cov, rf):\n",
    "    results_matrix = np.zeros((len(mean_returns)+3, num_portfolios))\n",
    "    for i in range(num_portfolios):\n",
    "        weights = np.random.random(len(mean_returns))\n",
    "        weights /= np.sum(weights)\n",
    "        portfolio_return, portfolio_std, sharpe_ratio = calc_portfolio_perf(weights, mean_returns, cov, rf)\n",
    "        results_matrix[0,i] = portfolio_return\n",
    "        results_matrix[1,i] = portfolio_std\n",
    "        results_matrix[2,i] = sharpe_ratio\n",
    "        #iterate through the weight vector and add data to results array\n",
    "        for j in range(len(weights)):\n",
    "            results_matrix[j+3,i] = weights[j]\n",
    "            \n",
    "    results_df = pd.DataFrame(results_matrix.T,columns=['ret','stdev','sharpe'] + [ticker for ticker in tickers])\n",
    "        \n",
    "    return results_df"
   ]
  },
  {
   "cell_type": "code",
   "execution_count": 161,
   "metadata": {},
   "outputs": [],
   "source": [
    "#credits to https://www.pythonforfinance.net/2019/07/02/investment-portfolio-optimisation-with-python-revisited/\n",
    "\n",
    "def ticker_data(tickers, start, end):\n",
    "    days = (end-start).days\n",
    "\n",
    "    index = pd.date_range(start, periods = days, freq='D')\n",
    "    df = pd.DataFrame(index = index,columns = tickers)\n",
    "\n",
    "    for ticker in tickers:\n",
    "        df[ticker] = web.DataReader(ticker, 'yahoo', start, end)['Adj Close']\n",
    "    df = df.dropna()\n",
    "    return(df)\n",
    "\n",
    "\n",
    "def calc_portfolio_perf(weights, mean_returns, cov, rf):\n",
    "    portfolio_return = np.sum(mean_returns * weights) * 252\n",
    "    portfolio_std = np.sqrt(np.dot(weights.T, np.dot(cov, weights))) * np.sqrt(252)\n",
    "    sharpe_ratio = (portfolio_return - rf) / portfolio_std\n",
    "    return portfolio_return, portfolio_std, sharpe_ratio\n",
    "\n",
    "def simulate_random_portfolios(num_portfolios, mean_returns, cov, rf):\n",
    "    results_matrix = np.zeros((len(mean_returns)+3, num_portfolios))\n",
    "    for i in range(num_portfolios):\n",
    "        weights = np.random.random(len(mean_returns))\n",
    "        weights /= np.sum(weights)\n",
    "        portfolio_return, portfolio_std, sharpe_ratio = calc_portfolio_perf(weights, mean_returns, cov, rf)\n",
    "        results_matrix[0,i] = portfolio_return\n",
    "        results_matrix[1,i] = portfolio_std\n",
    "        results_matrix[2,i] = sharpe_ratio\n",
    "        #iterate through the weight vector and add data to results array\n",
    "        for j in range(len(weights)):\n",
    "            results_matrix[j+3,i] = weights[j]\n",
    "            \n",
    "    results_df = pd.DataFrame(results_matrix.T,columns=['ret','stdev','sharpe'] + [ticker for ticker in tickers])\n",
    "        \n",
    "    return results_df\n",
    "\n",
    "\n",
    "def benchmark(indices,start, end):\n",
    "    indices = indices\n",
    "\n",
    "    starter_data = {'benchmark':'0','ret':'0', 'stdev':'0', 'sharpe':'0'}\n",
    "    df = pd.DataFrame(starter_data, index = starter_data.keys())[0:1].reset_index(drop = True)\n",
    "\n",
    "    for index in indices:\n",
    "\n",
    "        series = web.DataReader(index, 'yahoo', start, end)['Adj Close']\n",
    "        ret = series.pct_change().mean()*252\n",
    "        stdev = series.pct_change().std()*np.sqrt(252)\n",
    "        sharpe = (ret-rf)/stdev\n",
    "        benchmark_data = {'benchmark':index,'ret':ret, 'stdev':stdev, 'sharpe':sharpe}\n",
    "        new_row = pd.DataFrame(benchmark_data, index = benchmark_data.keys())[0:1].reset_index(drop = True)\n",
    "        df = df.append(new_row)\n",
    "    df = df.reset_index(drop = True).drop(0)\n",
    "    return(df)\n",
    "\n",
    "def capital_allocation(NAV, input_results, tickers):\n",
    "    pct_allocation = {}\n",
    "    cap_allocation = {}\n",
    "    for ticker in tickers:\n",
    "        pct_allocation[ticker] = float(input_results[ticker])\n",
    "        cap_allocation[ticker] = round(pct_allocation[ticker]*NAV,2)\n",
    "    return(cap_allocation)"
   ]
  },
  {
   "cell_type": "code",
   "execution_count": 325,
   "metadata": {},
   "outputs": [
    {
     "data": {
      "text/html": [
       "<div>\n",
       "<style scoped>\n",
       "    .dataframe tbody tr th:only-of-type {\n",
       "        vertical-align: middle;\n",
       "    }\n",
       "\n",
       "    .dataframe tbody tr th {\n",
       "        vertical-align: top;\n",
       "    }\n",
       "\n",
       "    .dataframe thead th {\n",
       "        text-align: right;\n",
       "    }\n",
       "</style>\n",
       "<table border=\"1\" class=\"dataframe\">\n",
       "  <thead>\n",
       "    <tr style=\"text-align: right;\">\n",
       "      <th></th>\n",
       "      <th>ret</th>\n",
       "      <th>stdev</th>\n",
       "      <th>sharpe</th>\n",
       "      <th>TLT</th>\n",
       "      <th>SPY</th>\n",
       "      <th>GLD</th>\n",
       "      <th>LQD</th>\n",
       "    </tr>\n",
       "  </thead>\n",
       "  <tbody>\n",
       "    <tr>\n",
       "      <td>1964</td>\n",
       "      <td>0.089645</td>\n",
       "      <td>0.079753</td>\n",
       "      <td>1.124037</td>\n",
       "      <td>0.402064</td>\n",
       "      <td>0.293876</td>\n",
       "      <td>0.157595</td>\n",
       "      <td>0.146465</td>\n",
       "    </tr>\n",
       "  </tbody>\n",
       "</table>\n",
       "</div>"
      ],
      "text/plain": [
       "           ret     stdev    sharpe       TLT       SPY       GLD       LQD\n",
       "1964  0.089645  0.079753  1.124037  0.402064  0.293876  0.157595  0.146465"
      ]
     },
     "execution_count": 325,
     "metadata": {},
     "output_type": "execute_result"
    }
   ],
   "source": [
    "tickers = ['TLT','SPY','GLD','LQD']\n",
    "start = date.today() - timedelta(days = 3650*1.5)\n",
    "end = date.today()\n",
    "df = pd.DataFrame([web.DataReader(ticker, 'yahoo', start, end)['Adj Close'] for ticker in tickers]).T\n",
    "df.columns = tickers\n",
    "\n",
    "mean_returns = df.pct_change().mean()\n",
    "cov = df.pct_change().cov()\n",
    "num_portfolios = 10000\n",
    "rf = 0.0\n",
    "results_frame = simulate_random_portfolios(num_portfolios, mean_returns, cov, rf)\n",
    "\n",
    "results_frame[results_frame['sharpe']==results_frame['sharpe'].max()]"
   ]
  },
  {
   "cell_type": "code",
   "execution_count": 190,
   "metadata": {},
   "outputs": [
    {
     "data": {
      "text/html": [
       "<div>\n",
       "<style scoped>\n",
       "    .dataframe tbody tr th:only-of-type {\n",
       "        vertical-align: middle;\n",
       "    }\n",
       "\n",
       "    .dataframe tbody tr th {\n",
       "        vertical-align: top;\n",
       "    }\n",
       "\n",
       "    .dataframe thead th {\n",
       "        text-align: right;\n",
       "    }\n",
       "</style>\n",
       "<table border=\"1\" class=\"dataframe\">\n",
       "  <thead>\n",
       "    <tr style=\"text-align: right;\">\n",
       "      <th></th>\n",
       "      <th>ret</th>\n",
       "      <th>stdev</th>\n",
       "      <th>sharpe</th>\n",
       "      <th>TLT</th>\n",
       "      <th>SPY</th>\n",
       "      <th>GLD</th>\n",
       "      <th>LQD</th>\n",
       "      <th>levered_ret</th>\n",
       "      <th>levered_stdev</th>\n",
       "      <th>levered_sharpe</th>\n",
       "    </tr>\n",
       "  </thead>\n",
       "  <tbody>\n",
       "    <tr>\n",
       "      <td>3265</td>\n",
       "      <td>0.080288</td>\n",
       "      <td>0.075195</td>\n",
       "      <td>1.067738</td>\n",
       "      <td>0.314997</td>\n",
       "      <td>0.210204</td>\n",
       "      <td>0.1679</td>\n",
       "      <td>0.306899</td>\n",
       "      <td>0.112932</td>\n",
       "      <td>0.112792</td>\n",
       "      <td>1.001243</td>\n",
       "    </tr>\n",
       "  </tbody>\n",
       "</table>\n",
       "</div>"
      ],
      "text/plain": [
       "           ret     stdev    sharpe       TLT       SPY     GLD       LQD  \\\n",
       "3265  0.080288  0.075195  1.067738  0.314997  0.210204  0.1679  0.306899   \n",
       "\n",
       "      levered_ret  levered_stdev  levered_sharpe  \n",
       "3265     0.112932       0.112792        1.001243  "
      ]
     },
     "execution_count": 190,
     "metadata": {},
     "output_type": "execute_result"
    }
   ],
   "source": [
    "results_frame['levered_ret']=[0.0]*len(results_frame)\n",
    "results_frame['levered_stdev']=[0.0]*len(results_frame)\n",
    "results_frame['levered_sharpe'] = [0.0]*len(results_frame)\n",
    "\n",
    "leverage = 1.5\n",
    "margin_int =0.015\n",
    "\n",
    "for i in range(len(results_frame)):\n",
    "    results_frame['levered_ret'][i] = results_frame['ret'][i] * leverage - (leverage - 1)*margin_int\n",
    "    results_frame['levered_stdev'][i] = results_frame['stdev'][i] * leverage\n",
    "    results_frame['levered_sharpe'][i] = results_frame['levered_ret'][i]/results_frame['levered_stdev'][i]\n",
    "\n",
    "max_levered_sharpe = results_frame['levered_sharpe'].max()\n",
    "max_sharpe = results_frame['sharpe'].max()\n",
    "results_frame[results_frame['levered_sharpe']==max_levered_sharpe]"
   ]
  },
  {
   "cell_type": "code",
   "execution_count": 192,
   "metadata": {},
   "outputs": [
    {
     "data": {
      "text/html": [
       "<div>\n",
       "<style scoped>\n",
       "    .dataframe tbody tr th:only-of-type {\n",
       "        vertical-align: middle;\n",
       "    }\n",
       "\n",
       "    .dataframe tbody tr th {\n",
       "        vertical-align: top;\n",
       "    }\n",
       "\n",
       "    .dataframe thead th {\n",
       "        text-align: right;\n",
       "    }\n",
       "</style>\n",
       "<table border=\"1\" class=\"dataframe\">\n",
       "  <thead>\n",
       "    <tr style=\"text-align: right;\">\n",
       "      <th></th>\n",
       "      <th>benchmark</th>\n",
       "      <th>ret</th>\n",
       "      <th>stdev</th>\n",
       "      <th>sharpe</th>\n",
       "    </tr>\n",
       "  </thead>\n",
       "  <tbody>\n",
       "    <tr>\n",
       "      <td>1</td>\n",
       "      <td>SPY</td>\n",
       "      <td>0.0779616</td>\n",
       "      <td>0.197848</td>\n",
       "      <td>0.394048</td>\n",
       "    </tr>\n",
       "    <tr>\n",
       "      <td>2</td>\n",
       "      <td>IWM</td>\n",
       "      <td>0.0954673</td>\n",
       "      <td>0.242404</td>\n",
       "      <td>0.393836</td>\n",
       "    </tr>\n",
       "    <tr>\n",
       "      <td>3</td>\n",
       "      <td>QQQ</td>\n",
       "      <td>0.0921604</td>\n",
       "      <td>0.264479</td>\n",
       "      <td>0.34846</td>\n",
       "    </tr>\n",
       "    <tr>\n",
       "      <td>4</td>\n",
       "      <td>VT</td>\n",
       "      <td>0.0850438</td>\n",
       "      <td>0.22475</td>\n",
       "      <td>0.378392</td>\n",
       "    </tr>\n",
       "  </tbody>\n",
       "</table>\n",
       "</div>"
      ],
      "text/plain": [
       "  benchmark        ret     stdev    sharpe\n",
       "1       SPY  0.0779616  0.197848  0.394048\n",
       "2       IWM  0.0954673  0.242404  0.393836\n",
       "3       QQQ  0.0921604  0.264479   0.34846\n",
       "4        VT  0.0850438   0.22475  0.378392"
      ]
     },
     "execution_count": 192,
     "metadata": {},
     "output_type": "execute_result"
    }
   ],
   "source": [
    "benchmark(['SPY','IWM','QQQ','VT'])"
   ]
  },
  {
   "cell_type": "code",
   "execution_count": 233,
   "metadata": {},
   "outputs": [],
   "source": [
    "tickers = ['TLT','SPY','GLD','LQD']\n",
    "input_results = results_frame[results_frame['levered_sharpe']==max_levered_sharpe]\n",
    "NAV = 50000\n",
    "\n",
    "def capital_allocation(NAV, input_results, tickers):\n",
    "    pct_allocation = {}\n",
    "    cap_allocation = {}\n",
    "    for ticker in tickers:\n",
    "        pct_allocation[ticker] = float(input_results[ticker])\n",
    "        cap_allocation[ticker] = round(pct_allocation[ticker]*NAV,2)\n",
    "    return(cap_allocation)\n",
    "\n"
   ]
  },
  {
   "cell_type": "code",
   "execution_count": null,
   "metadata": {},
   "outputs": [],
   "source": []
  },
  {
   "cell_type": "code",
   "execution_count": null,
   "metadata": {},
   "outputs": [],
   "source": [
    "def capital_allocation(NAV, holdings, input_results):\n",
    "    for t"
   ]
  },
  {
   "cell_type": "code",
   "execution_count": null,
   "metadata": {},
   "outputs": [],
   "source": []
  }
 ],
 "metadata": {
  "kernelspec": {
   "display_name": "Python 3",
   "language": "python",
   "name": "python3"
  },
  "language_info": {
   "codemirror_mode": {
    "name": "ipython",
    "version": 3
   },
   "file_extension": ".py",
   "mimetype": "text/x-python",
   "name": "python",
   "nbconvert_exporter": "python",
   "pygments_lexer": "ipython3",
   "version": "3.6.8"
  }
 },
 "nbformat": 4,
 "nbformat_minor": 4
}
